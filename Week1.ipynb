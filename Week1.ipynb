{
 "cells": [
  {
   "cell_type": "code",
   "execution_count": 2,
   "id": "e74fdf4e-ed23-487c-ad82-77a734837adb",
   "metadata": {},
   "outputs": [
    {
     "name": "stdout",
     "output_type": "stream",
     "text": [
      "Hello World!\n",
      "I'm starting learning Coursera Julia\n"
     ]
    }
   ],
   "source": [
    "println(\"Hello World!\\nI'm starting learning Coursera Julia\")"
   ]
  },
  {
   "cell_type": "markdown",
   "id": "64f30222",
   "metadata": {},
   "source": [
    "### Arithmetic Operators\n",
    "- \\* + / - ^"
   ]
  },
  {
   "cell_type": "code",
   "execution_count": 4,
   "id": "3011013d-7e6b-4b1c-a290-3cf024a89056",
   "metadata": {},
   "outputs": [
    {
     "data": {
      "text/plain": [
       "2"
      ]
     },
     "metadata": {},
     "output_type": "display_data"
    }
   ],
   "source": [
    "1 + 1 # = 2"
   ]
  },
  {
   "cell_type": "markdown",
   "id": "9b17bbf6",
   "metadata": {},
   "source": [
    "### Julia\n",
    "\n",
    "- Like **interpreted language** but not exactly. (Oposite: **Compiled language**)\n",
    "    - Interpreted: Compile line by line\n",
    "    - Compiled: Compile the whole code and then run the state.\n",
    "- It is **Just-in-time compilation**. Compile tiny bits of code and then run them.\n",
    "- **Base package** -> almost all of it is written in *Julia*.\n",
    "- Adding packages"
   ]
  },
  {
   "cell_type": "markdown",
   "id": "11c98030",
   "metadata": {},
   "source": [
    "### IJulia\n",
    "\n",
    "- Adding it:\n",
    "    - ```Pkg.add(\"IJulia\")```\n",
    "    - ```using IJulia```\n",
    "- Using it:\n",
    "    - ```notebook()```"
   ]
  },
  {
   "cell_type": "markdown",
   "id": "2f89800d",
   "metadata": {},
   "source": [
    "### REPL\n",
    "- Read-Evaluate-Print Loop\n",
    "- "
   ]
  },
  {
   "cell_type": "code",
   "execution_count": 5,
   "id": "c7a904da",
   "metadata": {},
   "outputs": [
    {
     "name": "stdout",
     "output_type": "stream",
     "text": [
      "Hello, world!\n"
     ]
    }
   ],
   "source": [
    "println(\"Hello, world!\")"
   ]
  },
  {
   "cell_type": "markdown",
   "id": "eaacf191",
   "metadata": {},
   "source": [
    "### println\n",
    "- ```println()```\n",
    "- built-in function\n",
    "- ```()``` : parantheses\n",
    "- ```[]``` : brackets\n",
    "- ```{}``` : braces\n",
    "\n",
    "### \"Hello, world!\"\n",
    "- An argument\n",
    "- inside the quotation: String -> like a telephone\n",
    "    - Strings are **immutable** -> cannot be chang"
   ]
  },
  {
   "cell_type": "code",
   "execution_count": 6,
   "id": "c25388b0",
   "metadata": {},
   "outputs": [
    {
     "name": "stdout",
     "output_type": "stream",
     "text": [
      "1.2000000000000002\n"
     ]
    }
   ],
   "source": [
    "println(5 - 3.8)"
   ]
  },
  {
   "cell_type": "code",
   "execution_count": 7,
   "id": "c83cd91b",
   "metadata": {},
   "outputs": [
    {
     "name": "stdout",
     "output_type": "stream",
     "text": [
      "Hello My World!\n"
     ]
    }
   ],
   "source": [
    "println(\"Hello\" * \" My World!\")"
   ]
  },
  {
   "cell_type": "code",
   "execution_count": null,
   "id": "f4ae2a5a",
   "metadata": {},
   "outputs": [
    {
     "name": "stdout",
     "output_type": "stream",
     "text": [
      "Hello Gogolli! Gogolli! Gogolli!\n"
     ]
    }
   ],
   "source": [
    "println(\"Hello\" * \" Gogolli!\" ^ 3)"
   ]
  },
  {
   "cell_type": "markdown",
   "id": "c0c8e60a",
   "metadata": {},
   "source": [
    "### Arithmetical Expressions\n",
    "- using numbers and operators\n",
    "- State of order"
   ]
  },
  {
   "cell_type": "code",
   "execution_count": 28,
   "id": "c66f878e",
   "metadata": {},
   "outputs": [
    {
     "data": {
      "text/plain": [
       "-2"
      ]
     },
     "metadata": {},
     "output_type": "display_data"
    }
   ],
   "source": [
    "1 - 2 + 3 - 4"
   ]
  },
  {
   "cell_type": "code",
   "execution_count": 29,
   "id": "546f3e69",
   "metadata": {},
   "outputs": [
    {
     "data": {
      "text/plain": [
       "1.25"
      ]
     },
     "metadata": {},
     "output_type": "display_data"
    }
   ],
   "source": [
    "1 / 2 + 3 / 4"
   ]
  },
  {
   "cell_type": "code",
   "execution_count": 30,
   "id": "721c19e7",
   "metadata": {},
   "outputs": [
    {
     "data": {
      "text/plain": [
       "5//4"
      ]
     },
     "metadata": {},
     "output_type": "display_data"
    }
   ],
   "source": [
    "1 // 2 + 3 // 4"
   ]
  },
  {
   "cell_type": "code",
   "execution_count": 31,
   "id": "85139ee3",
   "metadata": {},
   "outputs": [
    {
     "data": {
      "text/plain": [
       "0.875"
      ]
     },
     "metadata": {},
     "output_type": "display_data"
    }
   ],
   "source": [
    "(1 / 2 + 3) / 4"
   ]
  },
  {
   "cell_type": "markdown",
   "id": "de907c2d",
   "metadata": {},
   "source": [
    "### Operator Precedence\n",
    "- Left to Right (For same orders)\n",
    "- () -> ^ -> / * -> + -\n",
    "- Don't make the code messy.\n",
    "- For exponentiation, Right to Left"
   ]
  },
  {
   "cell_type": "code",
   "execution_count": 1,
   "id": "c10f7fda",
   "metadata": {},
   "outputs": [
    {
     "data": {
      "text/plain": [
       "-1.8250000000000002"
      ]
     },
     "metadata": {},
     "output_type": "display_data"
    }
   ],
   "source": [
    "0.2 + 2 - 3 * 6.7 / 4 + (3 - 2) ^ 2"
   ]
  },
  {
   "cell_type": "code",
   "execution_count": 3,
   "id": "b5006813",
   "metadata": {},
   "outputs": [
    {
     "data": {
      "text/plain": [
       "43046721"
      ]
     },
     "metadata": {},
     "output_type": "display_data"
    }
   ],
   "source": [
    "3 ^ 4 ^ 2"
   ]
  },
  {
   "cell_type": "code",
   "execution_count": 1,
   "id": "dbe5cfba",
   "metadata": {},
   "outputs": [
    {
     "data": {
      "text/plain": [
       "6561"
      ]
     },
     "metadata": {},
     "output_type": "display_data"
    }
   ],
   "source": [
    "(3 ^ 4) ^ 2"
   ]
  },
  {
   "cell_type": "markdown",
   "id": "181c0cf2",
   "metadata": {},
   "source": [
    "### Logical Expressions\n",
    "* Logic: How to transform true sentences into other true sentences\n",
    "* Computer Logic: Only can evaluate logical expressions\n",
    "* Keywords: true, false (Two logical values)\n",
    "* Logical Operators:\n",
    "    1. ! : **NOT** -> Reversing\n",
    "    2. &&: **AND** -> Only all trues\n",
    "    3. ||: **OR**  -> Only have one true"
   ]
  },
  {
   "cell_type": "code",
   "execution_count": 1,
   "id": "ee440bd3",
   "metadata": {},
   "outputs": [
    {
     "data": {
      "text/plain": [
       "false"
      ]
     },
     "metadata": {},
     "output_type": "display_data"
    }
   ],
   "source": [
    "!true"
   ]
  },
  {
   "cell_type": "code",
   "execution_count": 2,
   "id": "1b041d0c",
   "metadata": {},
   "outputs": [
    {
     "data": {
      "text/plain": [
       "true"
      ]
     },
     "metadata": {},
     "output_type": "display_data"
    }
   ],
   "source": [
    "!false"
   ]
  },
  {
   "cell_type": "code",
   "execution_count": 3,
   "id": "ce255b25",
   "metadata": {},
   "outputs": [
    {
     "name": "stdout",
     "output_type": "stream",
     "text": [
      "true\n",
      "false\n",
      "false\n",
      "false\n"
     ]
    }
   ],
   "source": [
    "println(true && true)\n",
    "println(true && false)\n",
    "println(false && true)\n",
    "println(false && false)"
   ]
  },
  {
   "cell_type": "code",
   "execution_count": 4,
   "id": "0d9b6ba4",
   "metadata": {},
   "outputs": [
    {
     "name": "stdout",
     "output_type": "stream",
     "text": [
      "true\n",
      "true\n",
      "true\n",
      "false\n"
     ]
    }
   ],
   "source": [
    "println(true || true)\n",
    "println(true || false)\n",
    "println(false || true)\n",
    "println(false || false)"
   ]
  },
  {
   "cell_type": "markdown",
   "id": "0341a40d",
   "metadata": {},
   "source": [
    "### Comparison Operators\n",
    "* < \n",
    "* \\>\n",
    "* ==\n",
    "* !="
   ]
  },
  {
   "cell_type": "code",
   "execution_count": 5,
   "id": "aea08713",
   "metadata": {},
   "outputs": [
    {
     "data": {
      "text/plain": [
       "true"
      ]
     },
     "metadata": {},
     "output_type": "display_data"
    }
   ],
   "source": [
    "1 < 2"
   ]
  },
  {
   "cell_type": "code",
   "execution_count": 6,
   "id": "4ec934ea",
   "metadata": {},
   "outputs": [
    {
     "data": {
      "text/plain": [
       "false"
      ]
     },
     "metadata": {},
     "output_type": "display_data"
    }
   ],
   "source": [
    "3 == 3.5"
   ]
  },
  {
   "cell_type": "markdown",
   "id": "1e2aafa4",
   "metadata": {},
   "source": [
    "### Operator precedence for logical expressions\n",
    "* parantheses ()\n",
    "* Left to Right\n",
    "* Arithmetics are higher than Logicals\n",
    "    * *\\* / + - ^* > *! || &&*"
   ]
  },
  {
   "cell_type": "markdown",
   "id": "15a15217",
   "metadata": {},
   "source": [
    "### & and |\n",
    "* & : bitwise AND\n",
    "* | : bitwise OR\n",
    "* Workds on pairs of integers\n",
    "* | and || or & and && are **different**"
   ]
  },
  {
   "cell_type": "markdown",
   "id": "c30afabb",
   "metadata": {},
   "source": [
    "### Short-circuit evaluation of Logical Expressions\n",
    "* ```false && ...``` is always ```false```\n",
    "* ```true || ...``` is always ```true```\n",
    "* This make the code more efficient."
   ]
  },
  {
   "cell_type": "code",
   "execution_count": 7,
   "id": "b5d6bee9",
   "metadata": {},
   "outputs": [
    {
     "data": {
      "text/plain": [
       "84.0"
      ]
     },
     "metadata": {},
     "output_type": "display_data"
    }
   ],
   "source": [
    "5040 / 60"
   ]
  },
  {
   "cell_type": "code",
   "execution_count": 10,
   "id": "0aacd3e6",
   "metadata": {},
   "outputs": [
    {
     "data": {
      "text/plain": [
       "11"
      ]
     },
     "metadata": {},
     "output_type": "display_data"
    }
   ],
   "source": [
    "x = 2\n",
    "3x^2 - 2x + 3"
   ]
  },
  {
   "cell_type": "code",
   "execution_count": 15,
   "id": "c4afa7b3",
   "metadata": {},
   "outputs": [
    {
     "data": {
      "text/plain": [
       "false"
      ]
     },
     "metadata": {},
     "output_type": "display_data"
    }
   ],
   "source": [
    "3 & 5 > 0\n",
    "8 & 5 > 0"
   ]
  },
  {
   "cell_type": "markdown",
   "id": "93ca5e3b",
   "metadata": {},
   "source": [
    "### Type System\n",
    "- Julia is a strong type language.\n",
    "- Most of the times, you can ignore the types in Julia.\n",
    "- But in some cases, you cannot. Especially when you run a program and Julia throw an Error at you.\n",
    "- What is a **Type**: Types are formats for *Storing information*\n",
    "- Information are stored and are moved in 0 and 1s. By knowing what **format to use**, you could tell what sequence of zeros and ones meant:\n",
    "    - 0001110100011111000001111100100011110000000101\n",
    "- We store two things:\n",
    "    1. **Information**\n",
    "    2. Its **Type**\n",
    "- **Where** do you store the types of a given information?\n",
    "    - Only **Values** have *Types*"
   ]
  },
  {
   "cell_type": "code",
   "execution_count": 1,
   "id": "309141f0",
   "metadata": {},
   "outputs": [
    {
     "data": {
      "text/plain": [
       "9"
      ]
     },
     "metadata": {},
     "output_type": "display_data"
    }
   ],
   "source": [
    "1 + 3 + 5"
   ]
  },
  {
   "cell_type": "code",
   "execution_count": 2,
   "id": "154743af",
   "metadata": {},
   "outputs": [
    {
     "data": {
      "text/plain": [
       "Int64"
      ]
     },
     "metadata": {},
     "output_type": "display_data"
    }
   ],
   "source": [
    "typeof(1)"
   ]
  },
  {
   "cell_type": "code",
   "execution_count": 3,
   "id": "a6fdb56d",
   "metadata": {},
   "outputs": [
    {
     "data": {
      "text/plain": [
       "Int64"
      ]
     },
     "metadata": {},
     "output_type": "display_data"
    }
   ],
   "source": [
    "typeof(1 + 3 + 5)"
   ]
  },
  {
   "cell_type": "code",
   "execution_count": 5,
   "id": "feb5bfd7",
   "metadata": {},
   "outputs": [
    {
     "data": {
      "text/plain": [
       "String"
      ]
     },
     "metadata": {},
     "output_type": "display_data"
    }
   ],
   "source": [
    "typeof(\"Hello, world!\")"
   ]
  },
  {
   "cell_type": "code",
   "execution_count": 6,
   "id": "29927a96",
   "metadata": {},
   "outputs": [
    {
     "data": {
      "text/plain": [
       "String"
      ]
     },
     "metadata": {},
     "output_type": "display_data"
    }
   ],
   "source": [
    "typeof(\"H\")"
   ]
  },
  {
   "cell_type": "code",
   "execution_count": 7,
   "id": "f0367a62",
   "metadata": {},
   "outputs": [
    {
     "data": {
      "text/plain": [
       "Char"
      ]
     },
     "metadata": {},
     "output_type": "display_data"
    }
   ],
   "source": [
    "typeof('H')"
   ]
  },
  {
   "cell_type": "code",
   "execution_count": 8,
   "id": "2e38cf4c",
   "metadata": {},
   "outputs": [
    {
     "data": {
      "text/plain": [
       "Float64"
      ]
     },
     "metadata": {},
     "output_type": "display_data"
    }
   ],
   "source": [
    "typeof(1 + 3 + 5.)"
   ]
  },
  {
   "cell_type": "markdown",
   "id": "83e4bc68",
   "metadata": {},
   "source": [
    "- Julia is very senstive to types\n",
    "- Julia will automatically assign types to any values you create"
   ]
  },
  {
   "cell_type": "markdown",
   "id": "745d8bc6",
   "metadata": {},
   "source": [
    "### Char & String\n",
    "- **String**: a sequence of Characters.\n",
    "- ASCII list: specifies 128 characters: only alphabetic\n",
    "- Unicode: Other characters"
   ]
  },
  {
   "cell_type": "code",
   "execution_count": 12,
   "id": "95c77868",
   "metadata": {},
   "outputs": [
    {
     "name": "stdout",
     "output_type": "stream",
     "text": [
      "α β\n",
      "\u0007lpha \beta\n",
      "⋄\n",
      "⤠\n"
     ]
    }
   ],
   "source": [
    "println(\"α β\")\n",
    "println(\"\\alpha \\beta\")\n",
    "println(\"⋄\")\n",
    "println(\"⤠\")"
   ]
  },
  {
   "cell_type": "markdown",
   "id": "3194f625",
   "metadata": {},
   "source": [
    "- They are available through ***LATEX***\n",
    "- All of them have ```Char``` type.\n",
    "- In Julia, types have name with first letter start with **Capital Letters**"
   ]
  },
  {
   "cell_type": "markdown",
   "id": "cc9e0e96",
   "metadata": {},
   "source": [
    "### Boolean\n",
    "- George Boole: the first oen who suggest the logical values: ture, false\n",
    "- In Julia, it occupies only 8 bits\n"
   ]
  },
  {
   "cell_type": "code",
   "execution_count": 13,
   "id": "4c9916f0",
   "metadata": {},
   "outputs": [
    {
     "data": {
      "text/plain": [
       "Bool"
      ]
     },
     "metadata": {},
     "output_type": "display_data"
    }
   ],
   "source": [
    "typeof(true)"
   ]
  },
  {
   "cell_type": "markdown",
   "id": "ffb19ffa",
   "metadata": {},
   "source": [
    "### Int64 & Float64\n",
    "- Most Scientific and Technical computation depends on them.\n",
    "- ```Float64```: is a floating point format for real numbers\n",
    "- ```Int64```: Integers\n"
   ]
  },
  {
   "cell_type": "code",
   "execution_count": 14,
   "id": "964c4d20",
   "metadata": {},
   "outputs": [
    {
     "data": {
      "text/plain": [
       "Int64"
      ]
     },
     "metadata": {},
     "output_type": "display_data"
    }
   ],
   "source": [
    "typeof(2)"
   ]
  },
  {
   "cell_type": "code",
   "execution_count": 18,
   "id": "e7247aa0",
   "metadata": {},
   "outputs": [
    {
     "data": {
      "text/plain": [
       "Float64"
      ]
     },
     "metadata": {},
     "output_type": "display_data"
    }
   ],
   "source": [
    "typeof(2.)"
   ]
  },
  {
   "cell_type": "code",
   "execution_count": 16,
   "id": "7ee3af37",
   "metadata": {},
   "outputs": [
    {
     "data": {
      "text/plain": [
       "true"
      ]
     },
     "metadata": {},
     "output_type": "display_data"
    }
   ],
   "source": [
    "2.0 == 2"
   ]
  },
  {
   "cell_type": "code",
   "execution_count": 17,
   "id": "de4a535d",
   "metadata": {},
   "outputs": [
    {
     "data": {
      "text/plain": [
       "false"
      ]
     },
     "metadata": {},
     "output_type": "display_data"
    }
   ],
   "source": [
    "2.0 === 2       # Strict Comparison"
   ]
  },
  {
   "cell_type": "markdown",
   "id": "3ea606b3",
   "metadata": {},
   "source": [
    "- Comparing between them can be done.\n",
    "- **Promotion rules** --> Conversion rules"
   ]
  },
  {
   "cell_type": "markdown",
   "id": "eefd6663",
   "metadata": {},
   "source": [
    "### Abstract Types\n",
    "- Till here, we talked about **Concrete types**\n",
    "- *Suptertype*: ```Any``` for every types or ```Real``` for ```Float64```\n",
    "- They are a way to grouping them together.\n",
    "- The actual type of a *value* should be **concerete type**\n",
    "- Why we use **Abstract types**:\n",
    "    1. Some operations change the type of a value: --> abstract types guide these processes\n",
    "    2. Functions operate on types --> when you specify to use an abstract type, you are giving it multiple concerte types\n",
    "- Julia has a **tree of types**"
   ]
  },
  {
   "cell_type": "markdown",
   "id": "7a97446e",
   "metadata": {},
   "source": [
    "### Variables\n",
    "- Each variable in julia has:\n",
    "    1. name\n",
    "    2. value\n",
    "    3. type\n",
    "- How to create ```Array``` type and how to access to the values in it.\n",
    "- How Variables gets their value and how variables is structured in Juila and why they can have **Abstract types**"
   ]
  },
  {
   "cell_type": "markdown",
   "id": "16dadebf",
   "metadata": {},
   "source": [
    "### Array types\n",
    "- Multidimenstional arrays:"
   ]
  },
  {
   "cell_type": "code",
   "execution_count": 30,
   "id": "b9a21552",
   "metadata": {},
   "outputs": [
    {
     "name": "stdout",
     "output_type": "stream",
     "text": [
      "[7, 140730448254128, 1929430127280]\n"
     ]
    },
    {
     "data": {
      "text/plain": [
       "Vector{Int64}\u001b[90m (alias for \u001b[39m\u001b[90mArray{Int64, 1}\u001b[39m\u001b[90m)\u001b[39m"
      ]
     },
     "metadata": {},
     "output_type": "display_data"
    }
   ],
   "source": [
    "println(Array{Int64}(undef, 3))\n",
    "typeof(Array{Int64}(undef, 3))"
   ]
  },
  {
   "cell_type": "markdown",
   "id": "c87d3918",
   "metadata": {},
   "source": [
    "- ```Array{Int64}(undef, 3)```: creates a 3 x 1 array of integers.\n",
    "- ```undef```: no value is supplied\n",
    "    - But because Julia hates empty arrays, it supplies some numbers to the Array (Waste numbers)\n",
    "- ```Array{Int64, 1}```: The ```1``` is the dimenstion, but ```3``` is the number of elements"
   ]
  },
  {
   "cell_type": "code",
   "execution_count": 31,
   "id": "08799c7f",
   "metadata": {},
   "outputs": [
    {
     "data": {
      "text/plain": [
       "3-element Vector{String}:\n",
       " #undef\n",
       " #undef\n",
       " #undef"
      ]
     },
     "metadata": {},
     "output_type": "display_data"
    }
   ],
   "source": [
    "Array{String}(undef, 3)"
   ]
  },
  {
   "cell_type": "code",
   "execution_count": 33,
   "id": "fb58967b",
   "metadata": {},
   "outputs": [
    {
     "data": {
      "text/plain": [
       "3-element Vector{Float64}:\n",
       " 9.532375526267e-312\n",
       " 9.53237490343e-312\n",
       " 0.0"
      ]
     },
     "metadata": {},
     "output_type": "display_data"
    }
   ],
   "source": [
    "Array{Float64}(undef, 3)"
   ]
  },
  {
   "cell_type": "code",
   "execution_count": 34,
   "id": "bb7bf156",
   "metadata": {},
   "outputs": [
    {
     "data": {
      "text/plain": [
       "3-element Vector{Bool}:\n",
       " 0\n",
       " 1\n",
       " 0"
      ]
     },
     "metadata": {},
     "output_type": "display_data"
    }
   ],
   "source": [
    "Array{Bool}(undef, 3)"
   ]
  },
  {
   "cell_type": "markdown",
   "id": "4a7243c2",
   "metadata": {},
   "source": [
    "### Assignment\n",
    "- How variables get their values\n",
    "- Do not use ```==``` --> just for **Comparison**\n",
    "- Use ```=``` for **Assignment**"
   ]
  },
  {
   "cell_type": "code",
   "execution_count": 36,
   "id": "5c724676",
   "metadata": {},
   "outputs": [
    {
     "data": {
      "text/plain": [
       "\"Hello, World!\""
      ]
     },
     "metadata": {},
     "output_type": "display_data"
    }
   ],
   "source": [
    "greeting = \"Hello, World!\""
   ]
  },
  {
   "cell_type": "code",
   "execution_count": 37,
   "id": "2698a6c9",
   "metadata": {},
   "outputs": [
    {
     "name": "stdout",
     "output_type": "stream",
     "text": [
      "Hello, World!\n"
     ]
    }
   ],
   "source": [
    "println(greeting)"
   ]
  },
  {
   "cell_type": "code",
   "execution_count": 38,
   "id": "ae504be4",
   "metadata": {},
   "outputs": [
    {
     "data": {
      "text/plain": [
       "5"
      ]
     },
     "metadata": {},
     "output_type": "display_data"
    }
   ],
   "source": [
    "a = 5       # a takes the value of 5\n",
    "b = a       # b takes the value of a"
   ]
  },
  {
   "cell_type": "markdown",
   "id": "fbe0a130",
   "metadata": {},
   "source": [
    "### Valid variable name\n",
    "- Almost any String with letter, number or a few other characters"
   ]
  },
  {
   "cell_type": "code",
   "execution_count": 40,
   "id": "da284aac",
   "metadata": {},
   "outputs": [
    {
     "data": {
      "text/plain": [
       "2-element Vector{Int64}:\n",
       " 2\n",
       " 3"
      ]
     },
     "metadata": {},
     "output_type": "display_data"
    }
   ],
   "source": [
    "سلام = 2\n",
    "خداحافظ = 3\n",
    "[سلام, خداحافظ]"
   ]
  },
  {
   "cell_type": "markdown",
   "id": "b7d2c61c",
   "metadata": {},
   "source": [
    "- Can also use **Underscore**\n",
    "- Do not use **Underscore** or **other weired characters**"
   ]
  },
  {
   "cell_type": "code",
   "execution_count": 42,
   "id": "6385313c",
   "metadata": {},
   "outputs": [
    {
     "data": {
      "text/plain": [
       "2"
      ]
     },
     "metadata": {},
     "output_type": "display_data"
    }
   ],
   "source": [
    "very_important!pay_attention = 2"
   ]
  },
  {
   "cell_type": "markdown",
   "id": "97f49ca1",
   "metadata": {},
   "source": [
    "### The three parts of a Julia Variable\n",
    "- Variable = name + value -----> The ```=``` binds the name to the value\n",
    "- Variable = name + value + type ----> The type is the type of its value\n",
    "- We can write a function without knowing the type of the variable or value that we are giving it."
   ]
  },
  {
   "cell_type": "markdown",
   "id": "57aef137",
   "metadata": {},
   "source": [
    "### Create a variable with Abstract type"
   ]
  },
  {
   "cell_type": "code",
   "execution_count": 57,
   "id": "21dbab87",
   "metadata": {},
   "outputs": [
    {
     "data": {
      "text/plain": [
       "2×3 Matrix{Integer}:\n",
       " #undef  #undef  #undef\n",
       " #undef  #undef  #undef"
      ]
     },
     "metadata": {},
     "output_type": "display_data"
    }
   ],
   "source": [
    "abstractType = Array{Integer}(undef, 2, 3) # Integer is an Abstract type\n"
   ]
  },
  {
   "cell_type": "code",
   "execution_count": 50,
   "id": "f57553b6",
   "metadata": {},
   "outputs": [
    {
     "data": {
      "text/plain": [
       "Matrix{Integer}\u001b[90m (alias for \u001b[39m\u001b[90mArray{Integer, 2}\u001b[39m\u001b[90m)\u001b[39m"
      ]
     },
     "metadata": {},
     "output_type": "display_data"
    }
   ],
   "source": [
    "typeof(abstractType)\n"
   ]
  },
  {
   "cell_type": "code",
   "execution_count": 51,
   "id": "d1e84150",
   "metadata": {},
   "outputs": [
    {
     "ename": "UndefRefError",
     "evalue": "UndefRefError: access to undefined reference",
     "output_type": "error",
     "traceback": [
      "UndefRefError: access to undefined reference\n",
      "\n",
      "Stacktrace:\n",
      " [1] getindex(::Matrix{Integer}, ::Int64, ::Int64)\n",
      "   @ Base .\\essentials.jl:14\n",
      " [2] top-level scope\n",
      "   @ c:\\Users\\sepehrskysh12\\Documents\\JuliaScripts\\JuliaCoursera\\Week1.ipynb:1"
     ]
    }
   ],
   "source": [
    "abstractType[2, 3]"
   ]
  },
  {
   "cell_type": "code",
   "execution_count": 52,
   "id": "b82c666f",
   "metadata": {},
   "outputs": [
    {
     "data": {
      "text/plain": [
       "2"
      ]
     },
     "metadata": {},
     "output_type": "display_data"
    }
   ],
   "source": [
    "abstractType[2, 3] = 2"
   ]
  },
  {
   "cell_type": "code",
   "execution_count": 53,
   "id": "e073e651",
   "metadata": {},
   "outputs": [
    {
     "data": {
      "text/plain": [
       "2"
      ]
     },
     "metadata": {},
     "output_type": "display_data"
    }
   ],
   "source": [
    "abstractType[2, 3]"
   ]
  },
  {
   "cell_type": "code",
   "execution_count": 54,
   "id": "a4af99fa",
   "metadata": {},
   "outputs": [
    {
     "ename": "UndefRefError",
     "evalue": "UndefRefError: access to undefined reference",
     "output_type": "error",
     "traceback": [
      "UndefRefError: access to undefined reference\n",
      "\n",
      "Stacktrace:\n",
      " [1] getindex(::Matrix{Integer}, ::Int64, ::Int64)\n",
      "   @ Base .\\essentials.jl:14\n",
      " [2] top-level scope\n",
      "   @ c:\\Users\\sepehrskysh12\\Documents\\JuliaScripts\\JuliaCoursera\\Week1.ipynb:1"
     ]
    }
   ],
   "source": [
    "abstractType[2, 1]"
   ]
  },
  {
   "cell_type": "code",
   "execution_count": 55,
   "id": "359e8bef",
   "metadata": {},
   "outputs": [
    {
     "data": {
      "text/plain": [
       "2×3 Matrix{Integer}:\n",
       " #undef  #undef  #undef\n",
       " #undef  #undef    2"
      ]
     },
     "metadata": {},
     "output_type": "display_data"
    }
   ],
   "source": [
    "abstractType"
   ]
  },
  {
   "cell_type": "code",
   "execution_count": 56,
   "id": "dc6eea7a",
   "metadata": {},
   "outputs": [
    {
     "ename": "InexactError",
     "evalue": "InexactError: Int64(5.3)",
     "output_type": "error",
     "traceback": [
      "InexactError: Int64(5.3)\n",
      "\n",
      "Stacktrace:\n",
      " [1] Int64\n",
      "   @ .\\float.jl:912 [inlined]\n",
      " [2] Integer\n",
      "   @ .\\boot.jl:818 [inlined]\n",
      " [3] convert\n",
      "   @ .\\number.jl:7 [inlined]\n",
      " [4] setindex!(::Matrix{Integer}, ::Float64, ::Int64, ::Int64)\n",
      "   @ Base .\\array.jl:1024\n",
      " [5] top-level scope\n",
      "   @ c:\\Users\\sepehrskysh12\\Documents\\JuliaScripts\\JuliaCoursera\\Week1.ipynb:1"
     ]
    }
   ],
   "source": [
    "abstractType[2, 1] = 5.3"
   ]
  },
  {
   "cell_type": "code",
   "execution_count": 58,
   "id": "071def7b",
   "metadata": {},
   "outputs": [
    {
     "ename": "MethodError",
     "evalue": "MethodError: Cannot `convert` an object of type String to an object of type Integer\n\nClosest candidates are:\n  convert(::Type{T}, !Matched::T) where T<:Number\n   @ Base number.jl:6\n  convert(::Type{T}, !Matched::T) where T\n   @ Base Base.jl:84\n  convert(::Type{T}, !Matched::AbstractChar) where T<:Number\n   @ Base char.jl:185\n  ...\n",
     "output_type": "error",
     "traceback": [
      "MethodError: Cannot `convert` an object of type String to an object of type Integer\n",
      "\n",
      "Closest candidates are:\n",
      "  convert(::Type{T}, !Matched::T) where T<:Number\n",
      "   @ Base number.jl:6\n",
      "  convert(::Type{T}, !Matched::T) where T\n",
      "   @ Base Base.jl:84\n",
      "  convert(::Type{T}, !Matched::AbstractChar) where T<:Number\n",
      "   @ Base char.jl:185\n",
      "  ...\n",
      "\n",
      "\n",
      "Stacktrace:\n",
      " [1] setindex!(::Matrix{Integer}, ::String, ::Int64, ::Int64)\n",
      "   @ Base .\\array.jl:1024\n",
      " [2] top-level scope\n",
      "   @ c:\\Users\\sepehrskysh12\\Documents\\JuliaScripts\\JuliaCoursera\\Week1.ipynb:1"
     ]
    }
   ],
   "source": [
    "abstractType[2, 1] = \"String\""
   ]
  },
  {
   "cell_type": "code",
   "execution_count": 61,
   "id": "223c60be",
   "metadata": {},
   "outputs": [
    {
     "data": {
      "text/plain": [
       "3×4 Matrix{Int64}:\n",
       " 140731121031920  1929412749808  1929412751088  1929412751728\n",
       "   1929412750544  1929412751024  1929412751120  1929412751408\n",
       "   1929412750768  1929412751056  1929412751280  1929412749936"
      ]
     },
     "metadata": {},
     "output_type": "display_data"
    }
   ],
   "source": [
    "abstractType2 = Array{Int64}(undef, 3, 4) # Int64 is a Concerte Type"
   ]
  },
  {
   "cell_type": "code",
   "execution_count": 62,
   "id": "992099df",
   "metadata": {},
   "outputs": [
    {
     "data": {
      "text/plain": [
       "1929412751120"
      ]
     },
     "metadata": {},
     "output_type": "display_data"
    }
   ],
   "source": [
    "abstractType2[2, 3]"
   ]
  },
  {
   "cell_type": "markdown",
   "id": "4dfc0fba",
   "metadata": {},
   "source": [
    "### Functions\n",
    "- How functions work\n",
    "- built-in and user-defined functions\n",
    "- Multiple dispatch"
   ]
  },
  {
   "cell_type": "markdown",
   "id": "43842e35",
   "metadata": {},
   "source": [
    "### Functions in Julia\n",
    "- ```println()```"
   ]
  },
  {
   "cell_type": "code",
   "execution_count": 67,
   "id": "f9ded782",
   "metadata": {},
   "outputs": [
    {
     "name": "stdout",
     "output_type": "stream",
     "text": [
      "Hello, World!\n"
     ]
    }
   ],
   "source": [
    "greeting = \"Hello, World!\"\n",
    "println(greeting)"
   ]
  },
  {
   "cell_type": "markdown",
   "id": "bdf5f182",
   "metadata": {},
   "source": [
    "- Functions: Get some **Input** and **Something heppen**\n",
    "- Shoing a string on the screen, Generating a value"
   ]
  },
  {
   "cell_type": "code",
   "execution_count": 68,
   "id": "d0cd44a8",
   "metadata": {},
   "outputs": [
    {
     "data": {
      "text/plain": [
       "(0.955336489125606, 0.6931471805599453, 1.22)"
      ]
     },
     "metadata": {},
     "output_type": "display_data"
    }
   ],
   "source": [
    "a, b, c = cos(0.3), log(2), abs(-1.22)"
   ]
  },
  {
   "cell_type": "markdown",
   "id": "729afab1",
   "metadata": {},
   "source": [
    "- ```typeof()```: A function provides information about the type of a value or variable"
   ]
  },
  {
   "cell_type": "markdown",
   "id": "1d058a0c",
   "metadata": {},
   "source": [
    "### Command line help\n",
    "- In Ijulia: ```?``` and then the topic ---> Give you the manual or information about the argument infornt of the ```?```"
   ]
  },
  {
   "cell_type": "code",
   "execution_count": 85,
   "id": "dce3e403",
   "metadata": {},
   "outputs": [
    {
     "ename": "Base.Meta.ParseError",
     "evalue": "ParseError:\n# Error @ c:\\Users\\sepehrskysh12\\Documents\\JuliaScripts\\JuliaCoursera\\Week1.ipynb:1:1\n? println\n╙ ── not a unary operator",
     "output_type": "error",
     "traceback": [
      "ParseError:\n",
      "# Error @ c:\\Users\\sepehrskysh12\\Documents\\JuliaScripts\\JuliaCoursera\\Week1.ipynb:1:1\n",
      "? println\n",
      "╙ ── not a unary operator\n",
      "\n",
      "Stacktrace:\n",
      " [1] top-level scope\n",
      "   @ c:\\Users\\sepehrskysh12\\Documents\\JuliaScripts\\JuliaCoursera\\Week1.ipynb:1"
     ]
    }
   ],
   "source": [
    "? println"
   ]
  },
  {
   "cell_type": "code",
   "execution_count": null,
   "id": "247b9a7f",
   "metadata": {},
   "outputs": [],
   "source": []
  }
 ],
 "metadata": {
  "kernelspec": {
   "display_name": "Julia 1.10.3",
   "language": "julia",
   "name": "julia-1.10"
  },
  "language_info": {
   "file_extension": ".jl",
   "mimetype": "application/julia",
   "name": "julia",
   "version": "1.10.3"
  }
 },
 "nbformat": 4,
 "nbformat_minor": 5
}
