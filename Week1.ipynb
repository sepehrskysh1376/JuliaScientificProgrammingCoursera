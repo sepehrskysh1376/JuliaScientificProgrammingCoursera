{
 "cells": [
  {
   "cell_type": "code",
   "execution_count": 2,
   "id": "e74fdf4e-ed23-487c-ad82-77a734837adb",
   "metadata": {},
   "outputs": [
    {
     "name": "stdout",
     "output_type": "stream",
     "text": [
      "Hello World!\n",
      "I'm starting learning Coursera Julia\n"
     ]
    }
   ],
   "source": [
    "println(\"Hello World!\\nI'm starting learning Coursera Julia\")"
   ]
  },
  {
   "cell_type": "markdown",
   "id": "64f30222",
   "metadata": {},
   "source": [
    "### Arithmetic Operators\n",
    "- \\* + / - ^"
   ]
  },
  {
   "cell_type": "code",
   "execution_count": 4,
   "id": "3011013d-7e6b-4b1c-a290-3cf024a89056",
   "metadata": {},
   "outputs": [
    {
     "data": {
      "text/plain": [
       "2"
      ]
     },
     "metadata": {},
     "output_type": "display_data"
    }
   ],
   "source": [
    "1 + 1 # = 2"
   ]
  },
  {
   "cell_type": "markdown",
   "id": "9b17bbf6",
   "metadata": {},
   "source": [
    "### Julia\n",
    "\n",
    "- Like **interpreted language** but not exactly. (Oposite: **Compiled language**)\n",
    "    - Interpreted: Compile line by line\n",
    "    - Compiled: Compile the whole code and then run the state.\n",
    "- It is **Just-in-time compilation**. Compile tiny bits of code and then run them.\n",
    "- **Base package** -> almost all of it is written in *Julia*.\n",
    "- Adding packages"
   ]
  },
  {
   "cell_type": "markdown",
   "id": "11c98030",
   "metadata": {},
   "source": [
    "### IJulia\n",
    "\n",
    "- Adding it:\n",
    "    - ```Pkg.add(\"IJulia\")```\n",
    "    - ```using IJulia```\n",
    "- Using it:\n",
    "    - ```notebook()```"
   ]
  },
  {
   "cell_type": "markdown",
   "id": "2f89800d",
   "metadata": {},
   "source": [
    "### REPL\n",
    "- Read-Evaluate-Print Loop\n",
    "- "
   ]
  },
  {
   "cell_type": "code",
   "execution_count": 5,
   "id": "c7a904da",
   "metadata": {},
   "outputs": [
    {
     "name": "stdout",
     "output_type": "stream",
     "text": [
      "Hello, world!\n"
     ]
    }
   ],
   "source": [
    "println(\"Hello, world!\")"
   ]
  },
  {
   "cell_type": "markdown",
   "id": "eaacf191",
   "metadata": {},
   "source": [
    "### println\n",
    "- ```println()```\n",
    "- built-in function\n",
    "- ```()``` : parantheses\n",
    "- ```[]``` : brackets\n",
    "- ```{}``` : braces\n",
    "\n",
    "### \"Hello, world!\"\n",
    "- An argument\n",
    "- inside the quotation: String -> like a telephone\n",
    "    - Strings are **immutable** -> cannot be chang"
   ]
  },
  {
   "cell_type": "code",
   "execution_count": 6,
   "id": "c25388b0",
   "metadata": {},
   "outputs": [
    {
     "name": "stdout",
     "output_type": "stream",
     "text": [
      "1.2000000000000002\n"
     ]
    }
   ],
   "source": [
    "println(5 - 3.8)"
   ]
  },
  {
   "cell_type": "code",
   "execution_count": 7,
   "id": "c83cd91b",
   "metadata": {},
   "outputs": [
    {
     "name": "stdout",
     "output_type": "stream",
     "text": [
      "Hello My World!\n"
     ]
    }
   ],
   "source": [
    "println(\"Hello\" * \" My World!\")"
   ]
  },
  {
   "cell_type": "code",
   "execution_count": null,
   "id": "f4ae2a5a",
   "metadata": {},
   "outputs": [
    {
     "name": "stdout",
     "output_type": "stream",
     "text": [
      "Hello Gogolli! Gogolli! Gogolli!\n"
     ]
    }
   ],
   "source": [
    "println(\"Hello\" * \" Gogolli!\" ^ 3)"
   ]
  },
  {
   "cell_type": "markdown",
   "id": "c0c8e60a",
   "metadata": {},
   "source": [
    "### Arithmetical Expressions\n",
    "- using numbers and operators\n",
    "- State of order"
   ]
  },
  {
   "cell_type": "code",
   "execution_count": 28,
   "id": "c66f878e",
   "metadata": {},
   "outputs": [
    {
     "data": {
      "text/plain": [
       "-2"
      ]
     },
     "metadata": {},
     "output_type": "display_data"
    }
   ],
   "source": [
    "1 - 2 + 3 - 4"
   ]
  },
  {
   "cell_type": "code",
   "execution_count": 29,
   "id": "546f3e69",
   "metadata": {},
   "outputs": [
    {
     "data": {
      "text/plain": [
       "1.25"
      ]
     },
     "metadata": {},
     "output_type": "display_data"
    }
   ],
   "source": [
    "1 / 2 + 3 / 4"
   ]
  },
  {
   "cell_type": "code",
   "execution_count": 30,
   "id": "721c19e7",
   "metadata": {},
   "outputs": [
    {
     "data": {
      "text/plain": [
       "5//4"
      ]
     },
     "metadata": {},
     "output_type": "display_data"
    }
   ],
   "source": [
    "1 // 2 + 3 // 4"
   ]
  },
  {
   "cell_type": "code",
   "execution_count": 31,
   "id": "85139ee3",
   "metadata": {},
   "outputs": [
    {
     "data": {
      "text/plain": [
       "0.875"
      ]
     },
     "metadata": {},
     "output_type": "display_data"
    }
   ],
   "source": [
    "(1 / 2 + 3) / 4"
   ]
  },
  {
   "cell_type": "markdown",
   "id": "de907c2d",
   "metadata": {},
   "source": [
    "### Operator Precedence\n",
    "- Left to Right (For same orders)\n",
    "- () -> ^ -> / * -> + -\n",
    "- Don't make the code messy.\n",
    "- For exponentiation, Right to Left"
   ]
  },
  {
   "cell_type": "code",
   "execution_count": 1,
   "id": "c10f7fda",
   "metadata": {},
   "outputs": [
    {
     "data": {
      "text/plain": [
       "-1.8250000000000002"
      ]
     },
     "metadata": {},
     "output_type": "display_data"
    }
   ],
   "source": [
    "0.2 + 2 - 3 * 6.7 / 4 + (3 - 2) ^ 2"
   ]
  },
  {
   "cell_type": "code",
   "execution_count": 3,
   "id": "b5006813",
   "metadata": {},
   "outputs": [
    {
     "data": {
      "text/plain": [
       "43046721"
      ]
     },
     "metadata": {},
     "output_type": "display_data"
    }
   ],
   "source": [
    "3 ^ 4 ^ 2"
   ]
  },
  {
   "cell_type": "code",
   "execution_count": 1,
   "id": "dbe5cfba",
   "metadata": {},
   "outputs": [
    {
     "data": {
      "text/plain": [
       "6561"
      ]
     },
     "metadata": {},
     "output_type": "display_data"
    }
   ],
   "source": [
    "(3 ^ 4) ^ 2"
   ]
  },
  {
   "cell_type": "markdown",
   "id": "181c0cf2",
   "metadata": {},
   "source": [
    "### Logical Expressions\n",
    "* Logic: How to transform true sentences into other true sentences\n",
    "* Computer Logic: Only can evaluate logical expressions\n",
    "* Keywords: true, false (Two logical values)\n",
    "* Logical Operators:\n",
    "    1. ! : **NOT** -> Reversing\n",
    "    2. &&: **AND** -> Only all trues\n",
    "    3. ||: **OR**  -> Only have one true"
   ]
  },
  {
   "cell_type": "code",
   "execution_count": 1,
   "id": "ee440bd3",
   "metadata": {},
   "outputs": [
    {
     "data": {
      "text/plain": [
       "false"
      ]
     },
     "metadata": {},
     "output_type": "display_data"
    }
   ],
   "source": [
    "!true"
   ]
  },
  {
   "cell_type": "code",
   "execution_count": 2,
   "id": "1b041d0c",
   "metadata": {},
   "outputs": [
    {
     "data": {
      "text/plain": [
       "true"
      ]
     },
     "metadata": {},
     "output_type": "display_data"
    }
   ],
   "source": [
    "!false"
   ]
  },
  {
   "cell_type": "code",
   "execution_count": 3,
   "id": "ce255b25",
   "metadata": {},
   "outputs": [
    {
     "name": "stdout",
     "output_type": "stream",
     "text": [
      "true\n",
      "false\n",
      "false\n",
      "false\n"
     ]
    }
   ],
   "source": [
    "println(true && true)\n",
    "println(true && false)\n",
    "println(false && true)\n",
    "println(false && false)"
   ]
  },
  {
   "cell_type": "code",
   "execution_count": 4,
   "id": "0d9b6ba4",
   "metadata": {},
   "outputs": [
    {
     "name": "stdout",
     "output_type": "stream",
     "text": [
      "true\n",
      "true\n",
      "true\n",
      "false\n"
     ]
    }
   ],
   "source": [
    "println(true || true)\n",
    "println(true || false)\n",
    "println(false || true)\n",
    "println(false || false)"
   ]
  },
  {
   "cell_type": "markdown",
   "id": "0341a40d",
   "metadata": {},
   "source": [
    "### Comparison Operators\n",
    "* < \n",
    "* \\>\n",
    "* ==\n",
    "* !="
   ]
  },
  {
   "cell_type": "code",
   "execution_count": 5,
   "id": "aea08713",
   "metadata": {},
   "outputs": [
    {
     "data": {
      "text/plain": [
       "true"
      ]
     },
     "metadata": {},
     "output_type": "display_data"
    }
   ],
   "source": [
    "1 < 2"
   ]
  },
  {
   "cell_type": "code",
   "execution_count": 6,
   "id": "4ec934ea",
   "metadata": {},
   "outputs": [
    {
     "data": {
      "text/plain": [
       "false"
      ]
     },
     "metadata": {},
     "output_type": "display_data"
    }
   ],
   "source": [
    "3 == 3.5"
   ]
  },
  {
   "cell_type": "markdown",
   "id": "1e2aafa4",
   "metadata": {},
   "source": [
    "### Operator precedence for logical expressions\n",
    "* parantheses ()\n",
    "* Left to Right\n",
    "* Arithmetics are higher than Logicals\n",
    "    * *\\* / + - ^* > *! || &&*"
   ]
  },
  {
   "cell_type": "markdown",
   "id": "15a15217",
   "metadata": {},
   "source": [
    "### & and |\n",
    "* & : bitwise AND\n",
    "* | : bitwise OR\n",
    "* Workds on pairs of integers\n",
    "* | and || or & and && are **different**"
   ]
  },
  {
   "cell_type": "markdown",
   "id": "c30afabb",
   "metadata": {},
   "source": [
    "### Short-circuit evaluation of Logical Expressions\n",
    "* ```false && ...``` is always ```false```\n",
    "* ```true || ...``` is always ```true```\n",
    "* This make the code more efficient."
   ]
  },
  {
   "cell_type": "code",
   "execution_count": 7,
   "id": "b5d6bee9",
   "metadata": {},
   "outputs": [
    {
     "data": {
      "text/plain": [
       "84.0"
      ]
     },
     "metadata": {},
     "output_type": "display_data"
    }
   ],
   "source": [
    "5040 / 60"
   ]
  },
  {
   "cell_type": "code",
   "execution_count": 10,
   "id": "0aacd3e6",
   "metadata": {},
   "outputs": [
    {
     "data": {
      "text/plain": [
       "11"
      ]
     },
     "metadata": {},
     "output_type": "display_data"
    }
   ],
   "source": [
    "x = 2\n",
    "3x^2 - 2x + 3"
   ]
  },
  {
   "cell_type": "code",
   "execution_count": 15,
   "id": "c4afa7b3",
   "metadata": {},
   "outputs": [
    {
     "data": {
      "text/plain": [
       "false"
      ]
     },
     "metadata": {},
     "output_type": "display_data"
    }
   ],
   "source": [
    "3 & 5 > 0\n",
    "8 & 5 > 0"
   ]
  },
  {
   "cell_type": "markdown",
   "id": "93ca5e3b",
   "metadata": {},
   "source": [
    "### Type System\n",
    "- Julia is a strong type language.\n",
    "- Most of the times, you can ignore the types in Julia.\n",
    "- But in some cases, you cannot. Especially when you run a program and Julia throw an Error at you.\n",
    "- What is a **Type**: Types are formats for *Storing information*\n",
    "- Information are stored and are moved in 0 and 1s. By knowing what **format to use**, you could tell what sequence of zeros and ones meant:\n",
    "    - 0001110100011111000001111100100011110000000101\n",
    "- We store two things:\n",
    "    1. **Information**\n",
    "    2. Its **Type**\n",
    "- **Where** do you store the types of a given information?\n",
    "    - Only **Values** have *Types*"
   ]
  },
  {
   "cell_type": "code",
   "execution_count": 1,
   "id": "309141f0",
   "metadata": {},
   "outputs": [
    {
     "data": {
      "text/plain": [
       "9"
      ]
     },
     "metadata": {},
     "output_type": "display_data"
    }
   ],
   "source": [
    "1 + 3 + 5"
   ]
  },
  {
   "cell_type": "code",
   "execution_count": 2,
   "id": "154743af",
   "metadata": {},
   "outputs": [
    {
     "data": {
      "text/plain": [
       "Int64"
      ]
     },
     "metadata": {},
     "output_type": "display_data"
    }
   ],
   "source": [
    "typeof(1)"
   ]
  },
  {
   "cell_type": "code",
   "execution_count": 3,
   "id": "a6fdb56d",
   "metadata": {},
   "outputs": [
    {
     "data": {
      "text/plain": [
       "Int64"
      ]
     },
     "metadata": {},
     "output_type": "display_data"
    }
   ],
   "source": [
    "typeof(1 + 3 + 5)"
   ]
  },
  {
   "cell_type": "code",
   "execution_count": 5,
   "id": "feb5bfd7",
   "metadata": {},
   "outputs": [
    {
     "data": {
      "text/plain": [
       "String"
      ]
     },
     "metadata": {},
     "output_type": "display_data"
    }
   ],
   "source": [
    "typeof(\"Hello, world!\")"
   ]
  },
  {
   "cell_type": "code",
   "execution_count": 6,
   "id": "29927a96",
   "metadata": {},
   "outputs": [
    {
     "data": {
      "text/plain": [
       "String"
      ]
     },
     "metadata": {},
     "output_type": "display_data"
    }
   ],
   "source": [
    "typeof(\"H\")"
   ]
  },
  {
   "cell_type": "code",
   "execution_count": 7,
   "id": "f0367a62",
   "metadata": {},
   "outputs": [
    {
     "data": {
      "text/plain": [
       "Char"
      ]
     },
     "metadata": {},
     "output_type": "display_data"
    }
   ],
   "source": [
    "typeof('H')"
   ]
  },
  {
   "cell_type": "code",
   "execution_count": 8,
   "id": "2e38cf4c",
   "metadata": {},
   "outputs": [
    {
     "data": {
      "text/plain": [
       "Float64"
      ]
     },
     "metadata": {},
     "output_type": "display_data"
    }
   ],
   "source": [
    "typeof(1 + 3 + 5.)"
   ]
  },
  {
   "cell_type": "markdown",
   "id": "83e4bc68",
   "metadata": {},
   "source": [
    "- Julia is very senstive to types\n",
    "- Julia will automatically assign types to any values you create"
   ]
  },
  {
   "cell_type": "markdown",
   "id": "745d8bc6",
   "metadata": {},
   "source": [
    "### Char & String\n",
    "- **String**: a sequence of Characters.\n",
    "- ASCII list: specifies 128 characters: only alphabetic\n",
    "- Unicode: Other characters"
   ]
  },
  {
   "cell_type": "code",
   "execution_count": 12,
   "id": "95c77868",
   "metadata": {},
   "outputs": [
    {
     "name": "stdout",
     "output_type": "stream",
     "text": [
      "α β\n",
      "\u0007lpha \beta\n",
      "⋄\n",
      "⤠\n"
     ]
    }
   ],
   "source": [
    "println(\"α β\")\n",
    "println(\"\\alpha \\beta\")\n",
    "println(\"⋄\")\n",
    "println(\"⤠\")"
   ]
  },
  {
   "cell_type": "markdown",
   "id": "3194f625",
   "metadata": {},
   "source": [
    "- They are available through ***LATEX***\n",
    "- All of them have ```Char``` type.\n",
    "- In Julia, types have name with first letter start with **Capital Letters**"
   ]
  },
  {
   "cell_type": "markdown",
   "id": "cc9e0e96",
   "metadata": {},
   "source": [
    "### Boolean\n",
    "- George Boole: the first oen who suggest the logical values: ture, false\n",
    "- In Julia, it occupies only 8 bits\n"
   ]
  },
  {
   "cell_type": "code",
   "execution_count": 13,
   "id": "4c9916f0",
   "metadata": {},
   "outputs": [
    {
     "data": {
      "text/plain": [
       "Bool"
      ]
     },
     "metadata": {},
     "output_type": "display_data"
    }
   ],
   "source": [
    "typeof(true)"
   ]
  },
  {
   "cell_type": "markdown",
   "id": "ffb19ffa",
   "metadata": {},
   "source": [
    "### Int64 & Float64\n",
    "- Most Scientific and Technical computation depends on them.\n",
    "- ```Float64```: is a floating point format for real numbers\n",
    "- ```Int64```: Integers\n"
   ]
  },
  {
   "cell_type": "code",
   "execution_count": 14,
   "id": "964c4d20",
   "metadata": {},
   "outputs": [
    {
     "data": {
      "text/plain": [
       "Int64"
      ]
     },
     "metadata": {},
     "output_type": "display_data"
    }
   ],
   "source": [
    "typeof(2)"
   ]
  },
  {
   "cell_type": "code",
   "execution_count": 18,
   "id": "e7247aa0",
   "metadata": {},
   "outputs": [
    {
     "data": {
      "text/plain": [
       "Float64"
      ]
     },
     "metadata": {},
     "output_type": "display_data"
    }
   ],
   "source": [
    "typeof(2.)"
   ]
  },
  {
   "cell_type": "code",
   "execution_count": 16,
   "id": "7ee3af37",
   "metadata": {},
   "outputs": [
    {
     "data": {
      "text/plain": [
       "true"
      ]
     },
     "metadata": {},
     "output_type": "display_data"
    }
   ],
   "source": [
    "2.0 == 2"
   ]
  },
  {
   "cell_type": "code",
   "execution_count": 17,
   "id": "de4a535d",
   "metadata": {},
   "outputs": [
    {
     "data": {
      "text/plain": [
       "false"
      ]
     },
     "metadata": {},
     "output_type": "display_data"
    }
   ],
   "source": [
    "2.0 === 2       # Strict Comparison"
   ]
  },
  {
   "cell_type": "markdown",
   "id": "3ea606b3",
   "metadata": {},
   "source": [
    "- Comparing between them can be done.\n",
    "- **Promotion rules** --> Conversion rules"
   ]
  },
  {
   "cell_type": "markdown",
   "id": "eefd6663",
   "metadata": {},
   "source": [
    "### Abstract Types\n",
    "- Till here, we talked about **Concrete types**\n",
    "- *Suptertype*: ```Any``` for every types or ```Real``` for ```Float64```\n",
    "- They are a way to grouping them together.\n",
    "- The actual type of a *value* should be **concerete type**\n",
    "- Why we use **Abstract types**:\n",
    "    1. Some operations change the type of a value: --> abstract types guide these processes\n",
    "    2. Functions operate on types --> when you specify to use an abstract type, you are giving it multiple concerte types\n",
    "- Julia has a **tree of types**"
   ]
  },
  {
   "cell_type": "markdown",
   "id": "7a97446e",
   "metadata": {},
   "source": [
    "### Variables\n",
    "- Each variable in julia has:\n",
    "    1. name\n",
    "    2. value\n",
    "    3. type\n",
    "- How to create ```Array``` type and how to access to the values in it.\n",
    "- How Variables gets their value and how variables is structured in Juila and why they can have **Abstract types**"
   ]
  },
  {
   "cell_type": "markdown",
   "id": "16dadebf",
   "metadata": {},
   "source": [
    "### Array types\n",
    "- Multidimenstional arrays:"
   ]
  },
  {
   "cell_type": "code",
   "execution_count": 30,
   "id": "b9a21552",
   "metadata": {},
   "outputs": [
    {
     "name": "stdout",
     "output_type": "stream",
     "text": [
      "[7, 140730448254128, 1929430127280]\n"
     ]
    },
    {
     "data": {
      "text/plain": [
       "Vector{Int64}\u001b[90m (alias for \u001b[39m\u001b[90mArray{Int64, 1}\u001b[39m\u001b[90m)\u001b[39m"
      ]
     },
     "metadata": {},
     "output_type": "display_data"
    }
   ],
   "source": [
    "println(Array{Int64}(undef, 3))\n",
    "typeof(Array{Int64}(undef, 3))"
   ]
  },
  {
   "cell_type": "markdown",
   "id": "c87d3918",
   "metadata": {},
   "source": [
    "- ```Array{Int64}(undef, 3)```: creates a 3 x 1 array of integers.\n",
    "- ```undef```: no value is supplied\n",
    "    - But because Julia hates empty arrays, it supplies some numbers to the Array (Waste numbers)\n",
    "- ```Array{Int64, 1}```: The ```1``` is the dimenstion, but ```3``` is the number of elements"
   ]
  },
  {
   "cell_type": "code",
   "execution_count": 31,
   "id": "08799c7f",
   "metadata": {},
   "outputs": [
    {
     "data": {
      "text/plain": [
       "3-element Vector{String}:\n",
       " #undef\n",
       " #undef\n",
       " #undef"
      ]
     },
     "metadata": {},
     "output_type": "display_data"
    }
   ],
   "source": [
    "Array{String}(undef, 3)"
   ]
  },
  {
   "cell_type": "code",
   "execution_count": 33,
   "id": "fb58967b",
   "metadata": {},
   "outputs": [
    {
     "data": {
      "text/plain": [
       "3-element Vector{Float64}:\n",
       " 9.532375526267e-312\n",
       " 9.53237490343e-312\n",
       " 0.0"
      ]
     },
     "metadata": {},
     "output_type": "display_data"
    }
   ],
   "source": [
    "Array{Float64}(undef, 3)"
   ]
  },
  {
   "cell_type": "code",
   "execution_count": 34,
   "id": "bb7bf156",
   "metadata": {},
   "outputs": [
    {
     "data": {
      "text/plain": [
       "3-element Vector{Bool}:\n",
       " 0\n",
       " 1\n",
       " 0"
      ]
     },
     "metadata": {},
     "output_type": "display_data"
    }
   ],
   "source": [
    "Array{Bool}(undef, 3)"
   ]
  },
  {
   "cell_type": "markdown",
   "id": "4a7243c2",
   "metadata": {},
   "source": [
    "### Assignment\n",
    "- How variables get their values\n",
    "- Do not use ```==``` --> just for **Comparison**\n",
    "- Use ```=``` for **Assignment**"
   ]
  },
  {
   "cell_type": "code",
   "execution_count": 36,
   "id": "5c724676",
   "metadata": {},
   "outputs": [
    {
     "data": {
      "text/plain": [
       "\"Hello, World!\""
      ]
     },
     "metadata": {},
     "output_type": "display_data"
    }
   ],
   "source": [
    "greeting = \"Hello, World!\""
   ]
  },
  {
   "cell_type": "code",
   "execution_count": 37,
   "id": "2698a6c9",
   "metadata": {},
   "outputs": [
    {
     "name": "stdout",
     "output_type": "stream",
     "text": [
      "Hello, World!\n"
     ]
    }
   ],
   "source": [
    "println(greeting)"
   ]
  },
  {
   "cell_type": "code",
   "execution_count": 38,
   "id": "ae504be4",
   "metadata": {},
   "outputs": [
    {
     "data": {
      "text/plain": [
       "5"
      ]
     },
     "metadata": {},
     "output_type": "display_data"
    }
   ],
   "source": [
    "a = 5       # a takes the value of 5\n",
    "b = a       # b takes the value of a"
   ]
  },
  {
   "cell_type": "markdown",
   "id": "fbe0a130",
   "metadata": {},
   "source": [
    "### Valid variable name\n",
    "- Almost any String with letter, number or a few other characters"
   ]
  },
  {
   "cell_type": "code",
   "execution_count": 40,
   "id": "da284aac",
   "metadata": {},
   "outputs": [
    {
     "data": {
      "text/plain": [
       "2-element Vector{Int64}:\n",
       " 2\n",
       " 3"
      ]
     },
     "metadata": {},
     "output_type": "display_data"
    }
   ],
   "source": [
    "سلام = 2\n",
    "خداحافظ = 3\n",
    "[سلام, خداحافظ]"
   ]
  },
  {
   "cell_type": "markdown",
   "id": "b7d2c61c",
   "metadata": {},
   "source": [
    "- Can also use **Underscore**\n",
    "- Do not use **Underscore** or **other weired characters**"
   ]
  },
  {
   "cell_type": "code",
   "execution_count": 42,
   "id": "6385313c",
   "metadata": {},
   "outputs": [
    {
     "data": {
      "text/plain": [
       "2"
      ]
     },
     "metadata": {},
     "output_type": "display_data"
    }
   ],
   "source": [
    "very_important!pay_attention = 2"
   ]
  },
  {
   "cell_type": "markdown",
   "id": "97f49ca1",
   "metadata": {},
   "source": [
    "### The three parts of a Julia Variable\n",
    "- Variable = name + value -----> The ```=``` binds the name to the value\n",
    "- Variable = name + value + type ----> The type is the type of its value\n",
    "- We can write a function without knowing the type of the variable or value that we are giving it."
   ]
  },
  {
   "cell_type": "markdown",
   "id": "57aef137",
   "metadata": {},
   "source": [
    "### Create a variable with Abstract type"
   ]
  },
  {
   "cell_type": "code",
   "execution_count": 57,
   "id": "21dbab87",
   "metadata": {},
   "outputs": [
    {
     "data": {
      "text/plain": [
       "2×3 Matrix{Integer}:\n",
       " #undef  #undef  #undef\n",
       " #undef  #undef  #undef"
      ]
     },
     "metadata": {},
     "output_type": "display_data"
    }
   ],
   "source": [
    "abstractType = Array{Integer}(undef, 2, 3) # Integer is an Abstract type\n"
   ]
  },
  {
   "cell_type": "code",
   "execution_count": 50,
   "id": "f57553b6",
   "metadata": {},
   "outputs": [
    {
     "data": {
      "text/plain": [
       "Matrix{Integer}\u001b[90m (alias for \u001b[39m\u001b[90mArray{Integer, 2}\u001b[39m\u001b[90m)\u001b[39m"
      ]
     },
     "metadata": {},
     "output_type": "display_data"
    }
   ],
   "source": [
    "typeof(abstractType)\n"
   ]
  },
  {
   "cell_type": "code",
   "execution_count": 51,
   "id": "d1e84150",
   "metadata": {},
   "outputs": [
    {
     "ename": "UndefRefError",
     "evalue": "UndefRefError: access to undefined reference",
     "output_type": "error",
     "traceback": [
      "UndefRefError: access to undefined reference\n",
      "\n",
      "Stacktrace:\n",
      " [1] getindex(::Matrix{Integer}, ::Int64, ::Int64)\n",
      "   @ Base .\\essentials.jl:14\n",
      " [2] top-level scope\n",
      "   @ c:\\Users\\sepehrskysh12\\Documents\\JuliaScripts\\JuliaCoursera\\Week1.ipynb:1"
     ]
    }
   ],
   "source": [
    "abstractType[2, 3]"
   ]
  },
  {
   "cell_type": "code",
   "execution_count": 52,
   "id": "b82c666f",
   "metadata": {},
   "outputs": [
    {
     "data": {
      "text/plain": [
       "2"
      ]
     },
     "metadata": {},
     "output_type": "display_data"
    }
   ],
   "source": [
    "abstractType[2, 3] = 2"
   ]
  },
  {
   "cell_type": "code",
   "execution_count": 53,
   "id": "e073e651",
   "metadata": {},
   "outputs": [
    {
     "data": {
      "text/plain": [
       "2"
      ]
     },
     "metadata": {},
     "output_type": "display_data"
    }
   ],
   "source": [
    "abstractType[2, 3]"
   ]
  },
  {
   "cell_type": "code",
   "execution_count": 54,
   "id": "a4af99fa",
   "metadata": {},
   "outputs": [
    {
     "ename": "UndefRefError",
     "evalue": "UndefRefError: access to undefined reference",
     "output_type": "error",
     "traceback": [
      "UndefRefError: access to undefined reference\n",
      "\n",
      "Stacktrace:\n",
      " [1] getindex(::Matrix{Integer}, ::Int64, ::Int64)\n",
      "   @ Base .\\essentials.jl:14\n",
      " [2] top-level scope\n",
      "   @ c:\\Users\\sepehrskysh12\\Documents\\JuliaScripts\\JuliaCoursera\\Week1.ipynb:1"
     ]
    }
   ],
   "source": [
    "abstractType[2, 1]"
   ]
  },
  {
   "cell_type": "code",
   "execution_count": 55,
   "id": "359e8bef",
   "metadata": {},
   "outputs": [
    {
     "data": {
      "text/plain": [
       "2×3 Matrix{Integer}:\n",
       " #undef  #undef  #undef\n",
       " #undef  #undef    2"
      ]
     },
     "metadata": {},
     "output_type": "display_data"
    }
   ],
   "source": [
    "abstractType"
   ]
  },
  {
   "cell_type": "code",
   "execution_count": 56,
   "id": "dc6eea7a",
   "metadata": {},
   "outputs": [
    {
     "ename": "InexactError",
     "evalue": "InexactError: Int64(5.3)",
     "output_type": "error",
     "traceback": [
      "InexactError: Int64(5.3)\n",
      "\n",
      "Stacktrace:\n",
      " [1] Int64\n",
      "   @ .\\float.jl:912 [inlined]\n",
      " [2] Integer\n",
      "   @ .\\boot.jl:818 [inlined]\n",
      " [3] convert\n",
      "   @ .\\number.jl:7 [inlined]\n",
      " [4] setindex!(::Matrix{Integer}, ::Float64, ::Int64, ::Int64)\n",
      "   @ Base .\\array.jl:1024\n",
      " [5] top-level scope\n",
      "   @ c:\\Users\\sepehrskysh12\\Documents\\JuliaScripts\\JuliaCoursera\\Week1.ipynb:1"
     ]
    }
   ],
   "source": [
    "abstractType[2, 1] = 5.3"
   ]
  },
  {
   "cell_type": "code",
   "execution_count": 58,
   "id": "071def7b",
   "metadata": {},
   "outputs": [
    {
     "ename": "MethodError",
     "evalue": "MethodError: Cannot `convert` an object of type String to an object of type Integer\n\nClosest candidates are:\n  convert(::Type{T}, !Matched::T) where T<:Number\n   @ Base number.jl:6\n  convert(::Type{T}, !Matched::T) where T\n   @ Base Base.jl:84\n  convert(::Type{T}, !Matched::AbstractChar) where T<:Number\n   @ Base char.jl:185\n  ...\n",
     "output_type": "error",
     "traceback": [
      "MethodError: Cannot `convert` an object of type String to an object of type Integer\n",
      "\n",
      "Closest candidates are:\n",
      "  convert(::Type{T}, !Matched::T) where T<:Number\n",
      "   @ Base number.jl:6\n",
      "  convert(::Type{T}, !Matched::T) where T\n",
      "   @ Base Base.jl:84\n",
      "  convert(::Type{T}, !Matched::AbstractChar) where T<:Number\n",
      "   @ Base char.jl:185\n",
      "  ...\n",
      "\n",
      "\n",
      "Stacktrace:\n",
      " [1] setindex!(::Matrix{Integer}, ::String, ::Int64, ::Int64)\n",
      "   @ Base .\\array.jl:1024\n",
      " [2] top-level scope\n",
      "   @ c:\\Users\\sepehrskysh12\\Documents\\JuliaScripts\\JuliaCoursera\\Week1.ipynb:1"
     ]
    }
   ],
   "source": [
    "abstractType[2, 1] = \"String\""
   ]
  },
  {
   "cell_type": "code",
   "execution_count": 61,
   "id": "223c60be",
   "metadata": {},
   "outputs": [
    {
     "data": {
      "text/plain": [
       "3×4 Matrix{Int64}:\n",
       " 140731121031920  1929412749808  1929412751088  1929412751728\n",
       "   1929412750544  1929412751024  1929412751120  1929412751408\n",
       "   1929412750768  1929412751056  1929412751280  1929412749936"
      ]
     },
     "metadata": {},
     "output_type": "display_data"
    }
   ],
   "source": [
    "abstractType2 = Array{Int64}(undef, 3, 4) # Int64 is a Concerte Type"
   ]
  },
  {
   "cell_type": "code",
   "execution_count": 62,
   "id": "992099df",
   "metadata": {},
   "outputs": [
    {
     "data": {
      "text/plain": [
       "1929412751120"
      ]
     },
     "metadata": {},
     "output_type": "display_data"
    }
   ],
   "source": [
    "abstractType2[2, 3]"
   ]
  },
  {
   "cell_type": "markdown",
   "id": "4dfc0fba",
   "metadata": {},
   "source": [
    "### Functions\n",
    "- How functions work\n",
    "- built-in and user-defined functions\n",
    "- Multiple dispatch"
   ]
  },
  {
   "cell_type": "markdown",
   "id": "43842e35",
   "metadata": {},
   "source": [
    "### Functions in Julia\n",
    "- ```println()```"
   ]
  },
  {
   "cell_type": "code",
   "execution_count": 67,
   "id": "f9ded782",
   "metadata": {},
   "outputs": [
    {
     "name": "stdout",
     "output_type": "stream",
     "text": [
      "Hello, World!\n"
     ]
    }
   ],
   "source": [
    "greeting = \"Hello, World!\"\n",
    "println(greeting)"
   ]
  },
  {
   "cell_type": "markdown",
   "id": "bdf5f182",
   "metadata": {},
   "source": [
    "- Functions: Get some **Input** and **Something heppen**\n",
    "- Shoing a string on the screen, Generating a value"
   ]
  },
  {
   "cell_type": "code",
   "execution_count": 68,
   "id": "d0cd44a8",
   "metadata": {},
   "outputs": [
    {
     "data": {
      "text/plain": [
       "(0.955336489125606, 0.6931471805599453, 1.22)"
      ]
     },
     "metadata": {},
     "output_type": "display_data"
    }
   ],
   "source": [
    "a, b, c = cos(0.3), log(2), abs(-1.22)"
   ]
  },
  {
   "cell_type": "markdown",
   "id": "729afab1",
   "metadata": {},
   "source": [
    "- ```typeof()```: A function provides information about the type of a value or variable"
   ]
  },
  {
   "cell_type": "markdown",
   "id": "1d058a0c",
   "metadata": {},
   "source": [
    "### Command line help\n",
    "- In Ijulia: ```?``` and then the topic ---> Give you the manual or information about the argument infornt of the ```?```"
   ]
  },
  {
   "cell_type": "code",
   "execution_count": 2,
   "id": "dce3e403",
   "metadata": {},
   "outputs": [
    {
     "name": "stdout",
     "output_type": "stream",
     "text": [
      "search: \u001b[0m\u001b[1ms\u001b[22m\u001b[0m\u001b[1mi\u001b[22m\u001b[0m\u001b[1mn\u001b[22m \u001b[0m\u001b[1ms\u001b[22m\u001b[0m\u001b[1mi\u001b[22m\u001b[0m\u001b[1mn\u001b[22mh \u001b[0m\u001b[1ms\u001b[22m\u001b[0m\u001b[1mi\u001b[22m\u001b[0m\u001b[1mn\u001b[22md \u001b[0m\u001b[1ms\u001b[22m\u001b[0m\u001b[1mi\u001b[22m\u001b[0m\u001b[1mn\u001b[22mc \u001b[0m\u001b[1ms\u001b[22m\u001b[0m\u001b[1mi\u001b[22m\u001b[0m\u001b[1mn\u001b[22mpi \u001b[0m\u001b[1ms\u001b[22m\u001b[0m\u001b[1mi\u001b[22m\u001b[0m\u001b[1mn\u001b[22mcos \u001b[0m\u001b[1ms\u001b[22m\u001b[0m\u001b[1mi\u001b[22m\u001b[0m\u001b[1mn\u001b[22mcosd \u001b[0m\u001b[1ms\u001b[22m\u001b[0m\u001b[1mi\u001b[22m\u001b[0m\u001b[1mn\u001b[22mcospi a\u001b[0m\u001b[1ms\u001b[22m\u001b[0m\u001b[1mi\u001b[22m\u001b[0m\u001b[1mn\u001b[22m u\u001b[0m\u001b[1ms\u001b[22m\u001b[0m\u001b[1mi\u001b[22m\u001b[0m\u001b[1mn\u001b[22mg i\u001b[0m\u001b[1ms\u001b[22m\u001b[0m\u001b[1mi\u001b[22m\u001b[0m\u001b[1mn\u001b[22mf a\u001b[0m\u001b[1ms\u001b[22m\u001b[0m\u001b[1mi\u001b[22m\u001b[0m\u001b[1mn\u001b[22mh\n",
      "\n"
     ]
    },
    {
     "data": {
      "text/latex": [
       "\\begin{verbatim}\n",
       "sin(x)\n",
       "\\end{verbatim}\n",
       "Compute sine of \\texttt{x}, where \\texttt{x} is in radians.\n",
       "\n",
       "See also \\href{@ref}{\\texttt{sind}}, \\href{@ref}{\\texttt{sinpi}}, \\href{@ref}{\\texttt{sincos}}, \\href{@ref}{\\texttt{cis}}, \\href{@ref}{\\texttt{asin}}.\n",
       "\n",
       "\\section{Examples}\n",
       "\\begin{verbatim}\n",
       "julia> round.(sin.(range(0, 2pi, length=9)'), digits=3)\n",
       "1×9 Matrix{Float64}:\n",
       " 0.0  0.707  1.0  0.707  0.0  -0.707  -1.0  -0.707  -0.0\n",
       "\n",
       "julia> sind(45)\n",
       "0.7071067811865476\n",
       "\n",
       "julia> sinpi(1/4)\n",
       "0.7071067811865475\n",
       "\n",
       "julia> round.(sincos(pi/6), digits=3)\n",
       "(0.5, 0.866)\n",
       "\n",
       "julia> round(cis(pi/6), digits=3)\n",
       "0.866 + 0.5im\n",
       "\n",
       "julia> round(exp(im*pi/6), digits=3)\n",
       "0.866 + 0.5im\n",
       "\\end{verbatim}\n",
       "\\rule{\\textwidth}{1pt}\n",
       "\\begin{verbatim}\n",
       "sin(A::AbstractMatrix)\n",
       "\\end{verbatim}\n",
       "Compute the matrix sine of a square matrix \\texttt{A}.\n",
       "\n",
       "If \\texttt{A} is symmetric or Hermitian, its eigendecomposition (\\href{@ref}{\\texttt{eigen}}) is used to compute the sine. Otherwise, the sine is determined by calling \\href{@ref}{\\texttt{exp}}.\n",
       "\n",
       "\\section{Examples}\n",
       "\\begin{verbatim}\n",
       "julia> sin(fill(1.0, (2,2)))\n",
       "2×2 Matrix{Float64}:\n",
       " 0.454649  0.454649\n",
       " 0.454649  0.454649\n",
       "\\end{verbatim}\n"
      ],
      "text/markdown": [
       "```\n",
       "sin(x)\n",
       "```\n",
       "\n",
       "Compute sine of `x`, where `x` is in radians.\n",
       "\n",
       "See also [`sind`](@ref), [`sinpi`](@ref), [`sincos`](@ref), [`cis`](@ref), [`asin`](@ref).\n",
       "\n",
       "# Examples\n",
       "\n",
       "```jldoctest\n",
       "julia> round.(sin.(range(0, 2pi, length=9)'), digits=3)\n",
       "1×9 Matrix{Float64}:\n",
       " 0.0  0.707  1.0  0.707  0.0  -0.707  -1.0  -0.707  -0.0\n",
       "\n",
       "julia> sind(45)\n",
       "0.7071067811865476\n",
       "\n",
       "julia> sinpi(1/4)\n",
       "0.7071067811865475\n",
       "\n",
       "julia> round.(sincos(pi/6), digits=3)\n",
       "(0.5, 0.866)\n",
       "\n",
       "julia> round(cis(pi/6), digits=3)\n",
       "0.866 + 0.5im\n",
       "\n",
       "julia> round(exp(im*pi/6), digits=3)\n",
       "0.866 + 0.5im\n",
       "```\n",
       "\n",
       "---\n",
       "\n",
       "```\n",
       "sin(A::AbstractMatrix)\n",
       "```\n",
       "\n",
       "Compute the matrix sine of a square matrix `A`.\n",
       "\n",
       "If `A` is symmetric or Hermitian, its eigendecomposition ([`eigen`](@ref)) is used to compute the sine. Otherwise, the sine is determined by calling [`exp`](@ref).\n",
       "\n",
       "# Examples\n",
       "\n",
       "```jldoctest\n",
       "julia> sin(fill(1.0, (2,2)))\n",
       "2×2 Matrix{Float64}:\n",
       " 0.454649  0.454649\n",
       " 0.454649  0.454649\n",
       "```\n"
      ],
      "text/plain": [
       "\u001b[36m  sin(x)\u001b[39m\n",
       "\n",
       "  Compute sine of \u001b[36mx\u001b[39m, where \u001b[36mx\u001b[39m is in radians.\n",
       "\n",
       "  See also \u001b[36msind\u001b[39m, \u001b[36msinpi\u001b[39m, \u001b[36msincos\u001b[39m, \u001b[36mcis\u001b[39m, \u001b[36masin\u001b[39m.\n",
       "\n",
       "\u001b[1m  Examples\u001b[22m\n",
       "\u001b[1m  ≡≡≡≡≡≡≡≡\u001b[22m\n",
       "\n",
       "\u001b[36m  julia> round.(sin.(range(0, 2pi, length=9)'), digits=3)\u001b[39m\n",
       "\u001b[36m  1×9 Matrix{Float64}:\u001b[39m\n",
       "\u001b[36m   0.0  0.707  1.0  0.707  0.0  -0.707  -1.0  -0.707  -0.0\u001b[39m\n",
       "\u001b[36m  \u001b[39m\n",
       "\u001b[36m  julia> sind(45)\u001b[39m\n",
       "\u001b[36m  0.7071067811865476\u001b[39m\n",
       "\u001b[36m  \u001b[39m\n",
       "\u001b[36m  julia> sinpi(1/4)\u001b[39m\n",
       "\u001b[36m  0.7071067811865475\u001b[39m\n",
       "\u001b[36m  \u001b[39m\n",
       "\u001b[36m  julia> round.(sincos(pi/6), digits=3)\u001b[39m\n",
       "\u001b[36m  (0.5, 0.866)\u001b[39m\n",
       "\u001b[36m  \u001b[39m\n",
       "\u001b[36m  julia> round(cis(pi/6), digits=3)\u001b[39m\n",
       "\u001b[36m  0.866 + 0.5im\u001b[39m\n",
       "\u001b[36m  \u001b[39m\n",
       "\u001b[36m  julia> round(exp(im*pi/6), digits=3)\u001b[39m\n",
       "\u001b[36m  0.866 + 0.5im\u001b[39m\n",
       "\n",
       "  ────────────────────────────────────────────────────────────────────────────\n",
       "\n",
       "\u001b[36m  sin(A::AbstractMatrix)\u001b[39m\n",
       "\n",
       "  Compute the matrix sine of a square matrix \u001b[36mA\u001b[39m.\n",
       "\n",
       "  If \u001b[36mA\u001b[39m is symmetric or Hermitian, its eigendecomposition (\u001b[36meigen\u001b[39m) is used to\n",
       "  compute the sine. Otherwise, the sine is determined by calling \u001b[36mexp\u001b[39m.\n",
       "\n",
       "\u001b[1m  Examples\u001b[22m\n",
       "\u001b[1m  ≡≡≡≡≡≡≡≡\u001b[22m\n",
       "\n",
       "\u001b[36m  julia> sin(fill(1.0, (2,2)))\u001b[39m\n",
       "\u001b[36m  2×2 Matrix{Float64}:\u001b[39m\n",
       "\u001b[36m   0.454649  0.454649\u001b[39m\n",
       "\u001b[36m   0.454649  0.454649\u001b[39m"
      ]
     },
     "execution_count": 2,
     "metadata": {},
     "output_type": "execute_result"
    }
   ],
   "source": [
    "?sin"
   ]
  },
  {
   "cell_type": "markdown",
   "id": "998540e8-f1c3-4438-99ee-499edee3fb07",
   "metadata": {},
   "source": [
    "### Built-in Mathematical functions\n",
    "\n",
    "- ```exp()```\n",
    "- ```log()``` --> **Natural Logarithm**\n",
    "- ```log10()``` --> **Logarithm to base 10**\n",
    "- ```cos()```\n",
    "- ```sin()```\n",
    "- ```tan()```\n",
    "- ```acos()```\n",
    "- ```asin()```\n",
    "- ```floor()```\n",
    "- ```ceil()```\n",
    "- ```rem()```\n",
    "- ```round()```\n",
    "- ```floor()```"
   ]
  },
  {
   "cell_type": "markdown",
   "id": "b6e35b32-45ea-4696-bd29-7d1cd3cf1cbf",
   "metadata": {},
   "source": [
    "### Multiple dispatch\n",
    "- For example ```cos()```:"
   ]
  },
  {
   "cell_type": "code",
   "execution_count": 1,
   "id": "c9e8fdd0",
   "metadata": {},
   "outputs": [
    {
     "data": {
      "text/plain": [
       "0.5403023058681398"
      ]
     },
     "metadata": {},
     "output_type": "display_data"
    }
   ],
   "source": [
    "cos(1)"
   ]
  },
  {
   "cell_type": "code",
   "execution_count": 3,
   "id": "b2ec16a6",
   "metadata": {},
   "outputs": [
    {
     "data": {
      "text/plain": [
       "0.5403023058681398"
      ]
     },
     "metadata": {},
     "output_type": "display_data"
    }
   ],
   "source": [
    "cos(1.0)"
   ]
  },
  {
   "cell_type": "markdown",
   "id": "14c22172",
   "metadata": {},
   "source": [
    "- In both cases we got ```Float64``` type. But we give it different types of values.\n",
    "- A function name ---point to---> a code body\n",
    "- For each **type input**, there is an unique **code body**. This means that there are **multiple code bodies** for ```cos()```.\n",
    "- We call these multiple code bodies for one function, **Multiple Dispatch** : Multiple definitions as long as each definition accepts a different combinaiton of arguments.\n"
   ]
  },
  {
   "cell_type": "code",
   "execution_count": 10,
   "id": "d92e2466",
   "metadata": {},
   "outputs": [
    {
     "data": {
      "text/html": [
       "# 20 methods for generic function <b>muladd</b> from \u001b[90mBase\u001b[39m:<ul><li> muladd(x::<b>BigFloat</b>, y::<b>BigFloat</b>, z::<b>BigFloat</b>) in Base.MPFR at <a href=\"https://github.com/JuliaLang/julia/tree/0b4590a5507d3f3046e5bafc007cacbbfc9b310b/base/mpfr.jl#L541\" target=\"_blank\">mpfr.jl:541</a></li> <li> muladd(z::<b>Complex</b>, w::<b>Complex</b>, x::<b>Complex</b>) in Base at <a href=\"https://github.com/JuliaLang/julia/tree/0b4590a5507d3f3046e5bafc007cacbbfc9b310b/base/complex.jl#L299\" target=\"_blank\">complex.jl:299</a></li> <li> muladd(x::<b>T</b>, y::<b>T</b>, z::<b>T</b>)<i> where T<:Union{Float16, Float32, Float64}</i> in Base at <a href=\"https://github.com/JuliaLang/julia/tree/0b4590a5507d3f3046e5bafc007cacbbfc9b310b/base/float.jl#L414\" target=\"_blank\">float.jl:414</a></li> <li> muladd(x::<b>T</b>, y::<b>T</b>, z::<b>T</b>)<i> where T<:Number</i> in Base at <a href=\"https://github.com/JuliaLang/julia/tree/0b4590a5507d3f3046e5bafc007cacbbfc9b310b/base/promotion.jl#L515\" target=\"_blank\">promotion.jl:515</a></li> <li> muladd(x::<b>Real</b>, y::<b>Real</b>, z::<b>Complex</b>) in Base at <a href=\"https://github.com/JuliaLang/julia/tree/0b4590a5507d3f3046e5bafc007cacbbfc9b310b/base/complex.jl#L346\" target=\"_blank\">complex.jl:346</a></li> <li> muladd(x::<b>Real</b>, z::<b>Complex</b>, y::<b>Number</b>) in Base at <a href=\"https://github.com/JuliaLang/julia/tree/0b4590a5507d3f3046e5bafc007cacbbfc9b310b/base/complex.jl#L342\" target=\"_blank\">complex.jl:342</a></li> <li> muladd(z::<b>Complex</b>, w::<b>Complex</b>, x::<b>Real</b>) in Base at <a href=\"https://github.com/JuliaLang/julia/tree/0b4590a5507d3f3046e5bafc007cacbbfc9b310b/base/complex.jl#L347\" target=\"_blank\">complex.jl:347</a></li> <li> muladd(z::<b>Complex</b>, x::<b>Real</b>, y::<b>Real</b>) in Base at <a href=\"https://github.com/JuliaLang/julia/tree/0b4590a5507d3f3046e5bafc007cacbbfc9b310b/base/complex.jl#L343\" target=\"_blank\">complex.jl:343</a></li> <li> muladd(z::<b>Complex</b>, x::<b>Real</b>, w::<b>Complex</b>) in Base at <a href=\"https://github.com/JuliaLang/julia/tree/0b4590a5507d3f3046e5bafc007cacbbfc9b310b/base/complex.jl#L344\" target=\"_blank\">complex.jl:344</a></li> <li> muladd(x::<b>Number</b>, y::<b>Number</b>, z::<b>Number</b>) in Base at <a href=\"https://github.com/JuliaLang/julia/tree/0b4590a5507d3f3046e5bafc007cacbbfc9b310b/base/promotion.jl#L459\" target=\"_blank\">promotion.jl:459</a></li> <li> muladd(A::<b>Union{LinearAlgebra.Adjoint{<:Any, <:StridedMatrix{var\"#s994\"}}, LinearAlgebra.Transpose{<:Any, <:StridedMatrix{var\"#s994\"}}, StridedMatrix{var\"#s994\"}} where var\"#s994\"<:Number</b>, B::<b>Union{LinearAlgebra.Adjoint{<:Any, <:StridedMatrix{var\"#s128\"}}, LinearAlgebra.Transpose{<:Any, <:StridedMatrix{var\"#s128\"}}, StridedMatrix{var\"#s128\"}} where var\"#s128\"<:Number</b>, z::<b>Union{Number, AbstractVecOrMat}</b>) in LinearAlgebra at <a href=\"file://C:/workdir/usr/share/julia/stdlib/v1.10/LinearAlgebra/src/matmul.jl\" target=\"_blank\">C:\\Users\\sepehrskysh12\\AppData\\Local\\Programs\\Julia-1.10.3\\share\\julia\\stdlib\\v1.10\\LinearAlgebra\\src\\matmul.jl:207</a></li> <li> muladd(x::<b>LinearAlgebra.Adjoint{T, <:AbstractVector} where T</b>, A::<b>AbstractMatrix</b>, z::<b>Union{Number, AbstractVecOrMat}</b>) in LinearAlgebra at <a href=\"file://C:/workdir/usr/share/julia/stdlib/v1.10/LinearAlgebra/src/matmul.jl\" target=\"_blank\">C:\\Users\\sepehrskysh12\\AppData\\Local\\Programs\\Julia-1.10.3\\share\\julia\\stdlib\\v1.10\\LinearAlgebra\\src\\matmul.jl:195</a></li> <li> muladd(x::<b>LinearAlgebra.Transpose{T, <:AbstractVector} where T</b>, A::<b>AbstractMatrix</b>, z::<b>Union{Number, AbstractVecOrMat}</b>) in LinearAlgebra at <a href=\"file://C:/workdir/usr/share/julia/stdlib/v1.10/LinearAlgebra/src/matmul.jl\" target=\"_blank\">C:\\Users\\sepehrskysh12\\AppData\\Local\\Programs\\Julia-1.10.3\\share\\julia\\stdlib\\v1.10\\LinearAlgebra\\src\\matmul.jl:197</a></li> <li> muladd(u::<b>AbstractVector</b>, v::<b>Union{LinearAlgebra.Adjoint{T, var\"#s994\"}, LinearAlgebra.Transpose{T, var\"#s994\"}} where {T, var\"#s994\"<:(AbstractVector)}</b>, z::<b>Union{Number, AbstractArray}</b>) in LinearAlgebra at <a href=\"file://C:/workdir/usr/share/julia/stdlib/v1.10/LinearAlgebra/src/matmul.jl\" target=\"_blank\">C:\\Users\\sepehrskysh12\\AppData\\Local\\Programs\\Julia-1.10.3\\share\\julia\\stdlib\\v1.10\\LinearAlgebra\\src\\matmul.jl:182</a></li> <li> muladd(A::<b>LinearAlgebra.Diagonal</b>, B::<b>LinearAlgebra.Diagonal</b>, z::<b>LinearAlgebra.Diagonal</b>) in LinearAlgebra at <a href=\"file://C:/workdir/usr/share/julia/stdlib/v1.10/LinearAlgebra/src/diagonal.jl\" target=\"_blank\">C:\\Users\\sepehrskysh12\\AppData\\Local\\Programs\\Julia-1.10.3\\share\\julia\\stdlib\\v1.10\\LinearAlgebra\\src\\diagonal.jl:909</a></li> <li> muladd(A::<b>LinearAlgebra.UniformScaling</b>, B::<b>LinearAlgebra.UniformScaling</b>, z::<b>LinearAlgebra.UniformScaling</b>) in LinearAlgebra at <a href=\"file://C:/workdir/usr/share/julia/stdlib/v1.10/LinearAlgebra/src/uniformscaling.jl\" target=\"_blank\">C:\\Users\\sepehrskysh12\\AppData\\Local\\Programs\\Julia-1.10.3\\share\\julia\\stdlib\\v1.10\\LinearAlgebra\\src\\uniformscaling.jl:430</a></li> <li> muladd(A::<b>Union{LinearAlgebra.Diagonal, LinearAlgebra.UniformScaling}</b>, B::<b>Union{LinearAlgebra.Diagonal, LinearAlgebra.UniformScaling}</b>, z::<b>Union{LinearAlgebra.Diagonal, LinearAlgebra.UniformScaling}</b>) in LinearAlgebra at <a href=\"file://C:/workdir/usr/share/julia/stdlib/v1.10/LinearAlgebra/src/special.jl\" target=\"_blank\">C:\\Users\\sepehrskysh12\\AppData\\Local\\Programs\\Julia-1.10.3\\share\\julia\\stdlib\\v1.10\\LinearAlgebra\\src\\special.jl:273</a></li> <li> muladd(A::<b>Union{LinearAlgebra.Adjoint{<:Any, <:StridedMatrix{var\"#s994\"}}, LinearAlgebra.Transpose{<:Any, <:StridedMatrix{var\"#s994\"}}, StridedMatrix{var\"#s994\"}} where var\"#s994\"<:Number</b>, y::<b>AbstractVector{<:Number}</b>, z::<b>Union{Number, AbstractVector}</b>) in LinearAlgebra at <a href=\"file://C:/workdir/usr/share/julia/stdlib/v1.10/LinearAlgebra/src/matmul.jl\" target=\"_blank\">C:\\Users\\sepehrskysh12\\AppData\\Local\\Programs\\Julia-1.10.3\\share\\julia\\stdlib\\v1.10\\LinearAlgebra\\src\\matmul.jl:200</a></li> <li> muladd(A::<b>AbstractMatrix</b>, y::<b>AbstractVecOrMat</b>, z::<b>Union{Number, AbstractArray}</b>) in LinearAlgebra at <a href=\"file://C:/workdir/usr/share/julia/stdlib/v1.10/LinearAlgebra/src/matmul.jl\" target=\"_blank\">C:\\Users\\sepehrskysh12\\AppData\\Local\\Programs\\Julia-1.10.3\\share\\julia\\stdlib\\v1.10\\LinearAlgebra\\src\\matmul.jl:168</a></li> <li> muladd(x, y, z) in Base.Math at <a href=\"https://github.com/JuliaLang/julia/tree/0b4590a5507d3f3046e5bafc007cacbbfc9b310b/base/math.jl#L1517\" target=\"_blank\">math.jl:1517</a></li> </ul>"
      ],
      "text/plain": [
       "# 20 methods for generic function \"muladd\" from \u001b[90mBase\u001b[39m:\n",
       "  [1] muladd(\u001b[90mx\u001b[39m::\u001b[1mBigFloat\u001b[22m, \u001b[90my\u001b[39m::\u001b[1mBigFloat\u001b[22m, \u001b[90mz\u001b[39m::\u001b[1mBigFloat\u001b[22m)\n",
       "\u001b[90m     @\u001b[39m \u001b[90mBase.MPFR\u001b[39m \u001b[90m\u001b[4mmpfr.jl:541\u001b[24m\u001b[39m\n",
       "  [2] muladd(\u001b[90mz\u001b[39m::\u001b[1mComplex\u001b[22m, \u001b[90mw\u001b[39m::\u001b[1mComplex\u001b[22m, \u001b[90mx\u001b[39m::\u001b[1mComplex\u001b[22m)\n",
       "\u001b[90m     @\u001b[39m \u001b[90m\u001b[4mcomplex.jl:299\u001b[24m\u001b[39m\n",
       "  [3] muladd(\u001b[90mx\u001b[39m::\u001b[1mT\u001b[22m, \u001b[90my\u001b[39m::\u001b[1mT\u001b[22m, \u001b[90mz\u001b[39m::\u001b[1mT\u001b[22m) where T<:Union{Float16, Float32, Float64}\n",
       "\u001b[90m     @\u001b[39m \u001b[90m\u001b[4mfloat.jl:414\u001b[24m\u001b[39m\n",
       "  [4] muladd(\u001b[90mx\u001b[39m::\u001b[1mT\u001b[22m, \u001b[90my\u001b[39m::\u001b[1mT\u001b[22m, \u001b[90mz\u001b[39m::\u001b[1mT\u001b[22m) where T<:Number\n",
       "\u001b[90m     @\u001b[39m \u001b[90m\u001b[4mpromotion.jl:515\u001b[24m\u001b[39m\n",
       "  [5] muladd(\u001b[90mx\u001b[39m::\u001b[1mReal\u001b[22m, \u001b[90my\u001b[39m::\u001b[1mReal\u001b[22m, \u001b[90mz\u001b[39m::\u001b[1mComplex\u001b[22m)\n",
       "\u001b[90m     @\u001b[39m \u001b[90m\u001b[4mcomplex.jl:346\u001b[24m\u001b[39m\n",
       "  [6] muladd(\u001b[90mx\u001b[39m::\u001b[1mReal\u001b[22m, \u001b[90mz\u001b[39m::\u001b[1mComplex\u001b[22m, \u001b[90my\u001b[39m::\u001b[1mNumber\u001b[22m)\n",
       "\u001b[90m     @\u001b[39m \u001b[90m\u001b[4mcomplex.jl:342\u001b[24m\u001b[39m\n",
       "  [7] muladd(\u001b[90mz\u001b[39m::\u001b[1mComplex\u001b[22m, \u001b[90mw\u001b[39m::\u001b[1mComplex\u001b[22m, \u001b[90mx\u001b[39m::\u001b[1mReal\u001b[22m)\n",
       "\u001b[90m     @\u001b[39m \u001b[90m\u001b[4mcomplex.jl:347\u001b[24m\u001b[39m\n",
       "  [8] muladd(\u001b[90mz\u001b[39m::\u001b[1mComplex\u001b[22m, \u001b[90mx\u001b[39m::\u001b[1mReal\u001b[22m, \u001b[90my\u001b[39m::\u001b[1mReal\u001b[22m)\n",
       "\u001b[90m     @\u001b[39m \u001b[90m\u001b[4mcomplex.jl:343\u001b[24m\u001b[39m\n",
       "  [9] muladd(\u001b[90mz\u001b[39m::\u001b[1mComplex\u001b[22m, \u001b[90mx\u001b[39m::\u001b[1mReal\u001b[22m, \u001b[90mw\u001b[39m::\u001b[1mComplex\u001b[22m)\n",
       "\u001b[90m     @\u001b[39m \u001b[90m\u001b[4mcomplex.jl:344\u001b[24m\u001b[39m\n",
       " [10] muladd(\u001b[90mx\u001b[39m::\u001b[1mNumber\u001b[22m, \u001b[90my\u001b[39m::\u001b[1mNumber\u001b[22m, \u001b[90mz\u001b[39m::\u001b[1mNumber\u001b[22m)\n",
       "\u001b[90m     @\u001b[39m \u001b[90m\u001b[4mpromotion.jl:459\u001b[24m\u001b[39m\n",
       " [11] muladd(\u001b[90mA\u001b[39m::\u001b[1mUnion\u001b[22m\u001b[0m{LinearAlgebra.Adjoint{<:Any, <:StridedMatrix{var\"#s994\"}}, LinearAlgebra.Transpose{<:Any, <:StridedMatrix{var\"#s994\"}}, StridedMatrix{var\"#s994\"}} where var\"#s994\"<:Number, \u001b[90mB\u001b[39m::\u001b[1mUnion\u001b[22m\u001b[0m{LinearAlgebra.Adjoint{<:Any, <:StridedMatrix{var\"#s128\"}}, LinearAlgebra.Transpose{<:Any, <:StridedMatrix{var\"#s128\"}}, StridedMatrix{var\"#s128\"}} where var\"#s128\"<:Number, \u001b[90mz\u001b[39m::\u001b[1mUnion\u001b[22m\u001b[0m{Number, AbstractVecOrMat})\n",
       "\u001b[90m     @\u001b[39m \u001b[35mLinearAlgebra\u001b[39m \u001b[90mC:\\Users\\sepehrskysh12\\AppData\\Local\\Programs\\Julia-1.10.3\\share\\julia\\stdlib\\v1.10\\LinearAlgebra\\src\\\u001b[39m\u001b[90m\u001b[4mmatmul.jl:207\u001b[24m\u001b[39m\n",
       " [12] muladd(\u001b[90mx\u001b[39m::\u001b[1mLinearAlgebra.Adjoint\u001b[22m\u001b[0m{T, <:AbstractVector} where T, \u001b[90mA\u001b[39m::\u001b[1mAbstractMatrix\u001b[22m, \u001b[90mz\u001b[39m::\u001b[1mUnion\u001b[22m\u001b[0m{Number, AbstractVecOrMat})\n",
       "\u001b[90m     @\u001b[39m \u001b[35mLinearAlgebra\u001b[39m \u001b[90mC:\\Users\\sepehrskysh12\\AppData\\Local\\Programs\\Julia-1.10.3\\share\\julia\\stdlib\\v1.10\\LinearAlgebra\\src\\\u001b[39m\u001b[90m\u001b[4mmatmul.jl:195\u001b[24m\u001b[39m\n",
       " [13] muladd(\u001b[90mx\u001b[39m::\u001b[1mLinearAlgebra.Transpose\u001b[22m\u001b[0m{T, <:AbstractVector} where T, \u001b[90mA\u001b[39m::\u001b[1mAbstractMatrix\u001b[22m, \u001b[90mz\u001b[39m::\u001b[1mUnion\u001b[22m\u001b[0m{Number, AbstractVecOrMat})\n",
       "\u001b[90m     @\u001b[39m \u001b[35mLinearAlgebra\u001b[39m \u001b[90mC:\\Users\\sepehrskysh12\\AppData\\Local\\Programs\\Julia-1.10.3\\share\\julia\\stdlib\\v1.10\\LinearAlgebra\\src\\\u001b[39m\u001b[90m\u001b[4mmatmul.jl:197\u001b[24m\u001b[39m\n",
       " [14] muladd(\u001b[90mu\u001b[39m::\u001b[1mAbstractVector\u001b[22m, \u001b[90mv\u001b[39m::\u001b[1mUnion\u001b[22m\u001b[0m{LinearAlgebra.Adjoint{T, var\"#s994\"}, LinearAlgebra.Transpose{T, var\"#s994\"}} where {T, var\"#s994\"<:(AbstractVector)}, \u001b[90mz\u001b[39m::\u001b[1mUnion\u001b[22m\u001b[0m{Number, AbstractArray})\n",
       "\u001b[90m     @\u001b[39m \u001b[35mLinearAlgebra\u001b[39m \u001b[90mC:\\Users\\sepehrskysh12\\AppData\\Local\\Programs\\Julia-1.10.3\\share\\julia\\stdlib\\v1.10\\LinearAlgebra\\src\\\u001b[39m\u001b[90m\u001b[4mmatmul.jl:182\u001b[24m\u001b[39m\n",
       " [15] muladd(\u001b[90mA\u001b[39m::\u001b[1mLinearAlgebra.Diagonal\u001b[22m, \u001b[90mB\u001b[39m::\u001b[1mLinearAlgebra.Diagonal\u001b[22m, \u001b[90mz\u001b[39m::\u001b[1mLinearAlgebra.Diagonal\u001b[22m)\n",
       "\u001b[90m     @\u001b[39m \u001b[35mLinearAlgebra\u001b[39m \u001b[90mC:\\Users\\sepehrskysh12\\AppData\\Local\\Programs\\Julia-1.10.3\\share\\julia\\stdlib\\v1.10\\LinearAlgebra\\src\\\u001b[39m\u001b[90m\u001b[4mdiagonal.jl:909\u001b[24m\u001b[39m\n",
       " [16] muladd(\u001b[90mA\u001b[39m::\u001b[1mLinearAlgebra.UniformScaling\u001b[22m, \u001b[90mB\u001b[39m::\u001b[1mLinearAlgebra.UniformScaling\u001b[22m, \u001b[90mz\u001b[39m::\u001b[1mLinearAlgebra.UniformScaling\u001b[22m)\n",
       "\u001b[90m     @\u001b[39m \u001b[35mLinearAlgebra\u001b[39m \u001b[90mC:\\Users\\sepehrskysh12\\AppData\\Local\\Programs\\Julia-1.10.3\\share\\julia\\stdlib\\v1.10\\LinearAlgebra\\src\\\u001b[39m\u001b[90m\u001b[4muniformscaling.jl:430\u001b[24m\u001b[39m\n",
       " [17] muladd(\u001b[90mA\u001b[39m::\u001b[1mUnion\u001b[22m\u001b[0m{LinearAlgebra.Diagonal, LinearAlgebra.UniformScaling}, \u001b[90mB\u001b[39m::\u001b[1mUnion\u001b[22m\u001b[0m{LinearAlgebra.Diagonal, LinearAlgebra.UniformScaling}, \u001b[90mz\u001b[39m::\u001b[1mUnion\u001b[22m\u001b[0m{LinearAlgebra.Diagonal, LinearAlgebra.UniformScaling})\n",
       "\u001b[90m     @\u001b[39m \u001b[35mLinearAlgebra\u001b[39m \u001b[90mC:\\Users\\sepehrskysh12\\AppData\\Local\\Programs\\Julia-1.10.3\\share\\julia\\stdlib\\v1.10\\LinearAlgebra\\src\\\u001b[39m\u001b[90m\u001b[4mspecial.jl:273\u001b[24m\u001b[39m\n",
       " [18] muladd(\u001b[90mA\u001b[39m::\u001b[1mUnion\u001b[22m\u001b[0m{LinearAlgebra.Adjoint{<:Any, <:StridedMatrix{var\"#s994\"}}, LinearAlgebra.Transpose{<:Any, <:StridedMatrix{var\"#s994\"}}, StridedMatrix{var\"#s994\"}} where var\"#s994\"<:Number, \u001b[90my\u001b[39m::\u001b[1mAbstractVector\u001b[22m\u001b[0m{<:Number}, \u001b[90mz\u001b[39m::\u001b[1mUnion\u001b[22m\u001b[0m{Number, AbstractVector})\n",
       "\u001b[90m     @\u001b[39m \u001b[35mLinearAlgebra\u001b[39m \u001b[90mC:\\Users\\sepehrskysh12\\AppData\\Local\\Programs\\Julia-1.10.3\\share\\julia\\stdlib\\v1.10\\LinearAlgebra\\src\\\u001b[39m\u001b[90m\u001b[4mmatmul.jl:200\u001b[24m\u001b[39m\n",
       " [19] muladd(\u001b[90mA\u001b[39m::\u001b[1mAbstractMatrix\u001b[22m, \u001b[90my\u001b[39m::\u001b[1mAbstractVecOrMat\u001b[22m, \u001b[90mz\u001b[39m::\u001b[1mUnion\u001b[22m\u001b[0m{Number, AbstractArray})\n",
       "\u001b[90m     @\u001b[39m \u001b[35mLinearAlgebra\u001b[39m \u001b[90mC:\\Users\\sepehrskysh12\\AppData\\Local\\Programs\\Julia-1.10.3\\share\\julia\\stdlib\\v1.10\\LinearAlgebra\\src\\\u001b[39m\u001b[90m\u001b[4mmatmul.jl:168\u001b[24m\u001b[39m\n",
       " [20] muladd(\u001b[90mx\u001b[39m, \u001b[90my\u001b[39m, \u001b[90mz\u001b[39m)\n",
       "\u001b[90m     @\u001b[39m \u001b[90mBase.Math\u001b[39m \u001b[90m\u001b[4mmath.jl:1517\u001b[24m\u001b[39m"
      ]
     },
     "metadata": {},
     "output_type": "display_data"
    }
   ],
   "source": [
    "methods(muladd)"
   ]
  },
  {
   "cell_type": "markdown",
   "id": "c566aac9",
   "metadata": {},
   "source": [
    "- ```methods()```: shows the different code bodies each function has.\n",
    "    - ```T```: it is stand for **Type**\n",
    "    - ```T<:Number```: saying that it can be a subtype of ```Number``` supertype, any number\n",
    "    - ```T::Number```: saying that it should be a number, any number\n",
    "    - You might think that these two are the same:\n",
    "        1. ```muladd(x::T, y::T, z::T) where T<:Number in Base at promotion.jl:515```\n",
    "        2. ```muladd(x::Number, y::Number, z::Number) in Base at promotion.jl:459```\n",
    "        - However, they are not the same. For the first one, All of them are the same: ```T``` (for example: ```Int64``` only.)\n",
    "        - But the second one give you the information that, the types of ```x```, ```y``` and ```z``` can have different types, but all of their types are the subtypes of ```Number```."
   ]
  },
  {
   "cell_type": "code",
   "execution_count": 9,
   "id": "1d80940a",
   "metadata": {},
   "outputs": [
    {
     "data": {
      "text/plain": [
       "10"
      ]
     },
     "metadata": {},
     "output_type": "display_data"
    }
   ],
   "source": [
    "muladd(2, 3, 4)"
   ]
  },
  {
   "cell_type": "markdown",
   "id": "3b204191",
   "metadata": {},
   "source": [
    "- Many of the **ERROR**s are arise from the fact that: -------> There are no **Method**, no **Signature** that fit the types that we give as inputs\n",
    "- Try:\n",
    "    - Make sure that input values are the **right type signature**\n",
    "    - If there is *no right type signature*, **Write an additional method** for the required type signature\n",
    "    "
   ]
  },
  {
   "cell_type": "markdown",
   "id": "6415195d",
   "metadata": {},
   "source": [
    "### User-Defined Functions\n",
    "- Defining **One-line syntax function**\n",
    "- Defining **Multiline syntax function**\n",
    "- Defining **Additional method for existing user-defined function**\n",
    "- Specify Types for **input values**"
   ]
  },
  {
   "cell_type": "markdown",
   "id": "2015ac02",
   "metadata": {},
   "source": [
    "### One-line Function\n",
    "- The form:\n",
    "```julia\n",
    "myfunc(firstvar) = argument\n",
    "```"
   ]
  },
  {
   "cell_type": "code",
   "execution_count": 11,
   "id": "6603cba2",
   "metadata": {},
   "outputs": [
    {
     "data": {
      "text/plain": [
       "myFunc (generic function with 1 method)"
      ]
     },
     "metadata": {},
     "output_type": "display_data"
    }
   ],
   "source": [
    "myFunc(v) = 20 * v      # There is a method now for myFunc"
   ]
  },
  {
   "cell_type": "markdown",
   "id": "33b421e6",
   "metadata": {},
   "source": [
    "- The **Rules**:\n",
    "    1. The name of the function -----> valid variable name\n",
    "    2. The argument of the function ---> valid variable name\n",
    "    3. The argument ----> inside teh parantheses (Multiple arguments seperated by comma)\n",
    "    4. name, argument ---> variable, code body"
   ]
  },
  {
   "cell_type": "code",
   "execution_count": 13,
   "id": "797e3cad",
   "metadata": {},
   "outputs": [
    {
     "data": {
      "text/plain": [
       "90.0"
      ]
     },
     "metadata": {},
     "output_type": "display_data"
    }
   ],
   "source": [
    "myFunc(4.5)"
   ]
  },
  {
   "cell_type": "code",
   "execution_count": 14,
   "id": "ad31eb82",
   "metadata": {},
   "outputs": [
    {
     "data": {
      "text/plain": [
       "addxtoy (generic function with 1 method)"
      ]
     },
     "metadata": {},
     "output_type": "display_data"
    }
   ],
   "source": [
    "addxtoy(x, y) = x + y"
   ]
  },
  {
   "cell_type": "code",
   "execution_count": 22,
   "id": "2a9e6624",
   "metadata": {},
   "outputs": [
    {
     "data": {
      "text/plain": [
       "10.8"
      ]
     },
     "metadata": {},
     "output_type": "display_data"
    }
   ],
   "source": [
    "addxtoy(33., -22.2)"
   ]
  },
  {
   "cell_type": "markdown",
   "id": "1a80dcb1",
   "metadata": {},
   "source": [
    "### Multiline Functions\n",
    "- Contain:\n",
    "    1. name and arguments\n",
    "    2. code body\n",
    "    3. end statement\n",
    "```julia\n",
    "function nextfunc(a, b, c)\n",
    "    a * b + c\n",
    "end\n",
    "```\n",
    "- There is a key word for writing functions: ```function```\n",
    "- Then we use the **name of the function**.\n",
    "- The **Arguments** are inside the parantheses.\n",
    "- **All the codes** are called **Code Body**\n",
    "- The ```end``` statement at the End!!!"
   ]
  },
  {
   "cell_type": "code",
   "execution_count": 23,
   "id": "93e22d9c",
   "metadata": {},
   "outputs": [
    {
     "data": {
      "text/plain": [
       "nextFunc (generic function with 1 method)"
      ]
     },
     "metadata": {},
     "output_type": "display_data"
    }
   ],
   "source": [
    "function nextFunc(a, b, c)\n",
    "    a * b + c\n",
    "end"
   ]
  },
  {
   "cell_type": "code",
   "execution_count": 24,
   "id": "8e6a5141",
   "metadata": {},
   "outputs": [
    {
     "data": {
      "text/plain": [
       "17"
      ]
     },
     "metadata": {},
     "output_type": "display_data"
    }
   ],
   "source": [
    "nextFunc(3, 4, 5)"
   ]
  },
  {
   "cell_type": "markdown",
   "id": "4b0e8b1f",
   "metadata": {},
   "source": [
    "- For ```println()```, when we use ```String```, we can use ```$``` in ```String```s to recall a value of a variable."
   ]
  },
  {
   "cell_type": "code",
   "execution_count": 37,
   "id": "1f208787",
   "metadata": {},
   "outputs": [
    {
     "data": {
      "text/plain": [
       "showDebugPrintln (generic function with 1 method)"
      ]
     },
     "metadata": {},
     "output_type": "display_data"
    }
   ],
   "source": [
    "function showDebugPrintln(testvar)\n",
    "    println(\"Inside the showDebugPrint() now:\")\n",
    "    println(\"The type of testvar is $(typeof(testvar)) and the value testvar is $testvar\")\n",
    "end"
   ]
  },
  {
   "cell_type": "code",
   "execution_count": 38,
   "id": "d1a395a5",
   "metadata": {},
   "outputs": [
    {
     "name": "stdout",
     "output_type": "stream",
     "text": [
      "Inside the showDebugPrint() now:\n",
      "The type of testvar is Char and the value testvar is 1\n"
     ]
    }
   ],
   "source": [
    "showDebugPrintln('1')"
   ]
  },
  {
   "cell_type": "code",
   "execution_count": 39,
   "id": "b2d8a5d4",
   "metadata": {},
   "outputs": [
    {
     "name": "stdout",
     "output_type": "stream",
     "text": [
      "Inside the showDebugPrint() now:\n",
      "The type of testvar is Vector{Any} and the value testvar is Any[\"Sepehr\", 1//2]\n"
     ]
    }
   ],
   "source": [
    "a =[\"Sepehr\", 2//4]\n",
    "showDebugPrintln(a)"
   ]
  },
  {
   "cell_type": "code",
   "execution_count": 40,
   "id": "e4ed5fd6",
   "metadata": {},
   "outputs": [],
   "source": []
  },
  {
   "cell_type": "code",
   "execution_count": null,
   "id": "94b53426",
   "metadata": {},
   "outputs": [],
   "source": []
  }
 ],
 "metadata": {
  "kernelspec": {
   "display_name": "Julia 1.10.3",
   "language": "julia",
   "name": "julia-1.10"
  },
  "language_info": {
   "file_extension": ".jl",
   "mimetype": "application/julia",
   "name": "julia",
   "version": "1.10.3"
  }
 },
 "nbformat": 4,
 "nbformat_minor": 5
}
