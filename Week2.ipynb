{
 "cells": [
  {
   "cell_type": "markdown",
   "id": "aa8b859d-6685-4037-847f-00b0294ada61",
   "metadata": {},
   "source": [
    "## The Ebola epidemic\n",
    "- Describe Ebola Virus Disease\n",
    "- Outline the time course of the West African EVD Epidemic\n",
    "- Distinguish the reality of EVD from two related things."
   ]
  },
  {
   "cell_type": "markdown",
   "id": "b87314d6",
   "metadata": {},
   "source": [
    "- We do not talk about this with Julia yet."
   ]
  },
  {
   "cell_type": "markdown",
   "id": "f2b42b59",
   "metadata": {},
   "source": [
    "### Why we are using this example\n",
    "- provide a rich set of tasks in Julia for us\n",
    "    - How to **read and write data**\n",
    "    - How to write **loops**\n",
    "    - How to make **Plots**\n",
    "- Ebola virus Disease caused outbreak in Africa in 2014\n",
    "    - It is a very important event\n",
    "    - A lot of data\n",
    "    - Can illustrate a lot of thing with these data"
   ]
  },
  {
   "cell_type": "markdown",
   "id": "43c3db6b",
   "metadata": {},
   "source": [
    "### Ebola\n",
    "- it spread by direct contact with body fluid ---> The fluid should get onto the skin and into the mucous membrances of the person\n",
    "- Airborn particles do not spread the disease.\n",
    "- 7/10 people who got sick, is likely to die.\n",
    "- 1/3 people who got treated died\n"
   ]
  },
  {
   "cell_type": "code",
   "execution_count": 1,
   "id": "5c54c203",
   "metadata": {},
   "outputs": [
    {
     "data": {
      "text/plain": [
       "0.7"
      ]
     },
     "metadata": {},
     "output_type": "display_data"
    }
   ],
   "source": [
    "7/10"
   ]
  },
  {
   "cell_type": "code",
   "execution_count": 2,
   "id": "f0fb0a79",
   "metadata": {},
   "outputs": [
    {
     "data": {
      "text/plain": [
       "0.3333333333333333"
      ]
     },
     "metadata": {},
     "output_type": "display_data"
    }
   ],
   "source": [
    "1/3"
   ]
  },
  {
   "cell_type": "markdown",
   "id": "38ce5508",
   "metadata": {},
   "source": [
    "### Models vs data vs reality\n",
    "- **Julia** can be used to illustrate many features of the language\n",
    "- We will learn:\n",
    "    1. handling **date-time data**\n",
    "    2. ```for``` loops\n",
    "    3. making **plots**\n",
    "    4. ```if``` statements\n",
    "    5. Practice with **Array slicing** and **user-defined functions**\n",
    "- In *Week 3*, Studying **modelling the epidemic**"
   ]
  },
  {
   "cell_type": "markdown",
   "id": "64d76259",
   "metadata": {},
   "source": [
    "- **Model**: is always simpler than the **Real thing**\n",
    "- **Model**: is also always simpler than the **data** it is fitted to\n",
    "- **Model**s are simpler to show and be understood and be more intricate\n",
    "- **Real World** > **DATA** > **Model** (From *Complexity standpoint*)"
   ]
  },
  {
   "cell_type": "markdown",
   "id": "08b15d62",
   "metadata": {},
   "source": [
    "### Loading publicly available data\n",
    "- Find data on the West African EVD\n",
    "- Loading the **DelimitedFiles** package\n",
    "- Use ```readdlm()``` to load this data from a ```.csv``` file"
   ]
  },
  {
   "cell_type": "markdown",
   "id": "8f8c6f74",
   "metadata": {},
   "source": [
    "- The data is here: https://en.wikipedia.org/wiki/West_African_Ebola_virus_epidemic_timeline_of_reported_cases_and_deaths\n",
    "- The ```.csv``` format:\n",
    "    - A **comma-separated file**"
   ]
  },
  {
   "cell_type": "markdown",
   "id": "2aa90b15",
   "metadata": {},
   "source": [
    "### Loading the DelimitedFiles packages\n",
    "- The extensions in Julia:\n",
    "    - Basics: always loaded\n",
    "    - Some other additionally loaded ----> like ```ElimitedFiles```\n",
    "- Why we do need ```ElimitedFiles```:\n",
    "    - Sarting-up efficiency\n",
    "    - Functionality effeciency\n"
   ]
  },
  {
   "cell_type": "markdown",
   "id": "f32d68a7",
   "metadata": {},
   "source": [
    "### Using readdlm to load a .csv file\n",
    "- Available in the ```ElimitedFiles```\n",
    "- ```readdlm()```:\n",
    "    - is Julia's way to read any file consists of lines **separated** into data items.\n",
    "    - the abbreviation of ***read-with-a-delimiter***\n",
    "- Using this function, ```readdlm()```, to load the file and use the Character: ```','``` to seperate the cells"
   ]
  },
  {
   "cell_type": "code",
   "execution_count": 87,
   "id": "ec26aa45",
   "metadata": {},
   "outputs": [
    {
     "data": {
      "text/plain": [
       "54×10 Matrix{Any}:\n",
       " \"25-Nov-2015\"     \"28,637\"     \"11,314\"  …     \"3,955\"  \"[note 1][13]\"\n",
       " \"18-Nov-2015\"     \"28,634\"     \"11,314\"        \"3,955\"  \"[note 2][14]\"\n",
       " \"11-Nov-2015\"     \"28,635\"     \"11,314\"        \"3,955\"  \"[note 3][15]\"\n",
       " \"4-Nov-2015\"      \"28,607\"     \"11,314\"        \"3,955\"  \"[note 4][16]\"\n",
       " \"25-Oct-2015\"     \"28,539\"     \"11,298\"        \"3,955\"  \"[note 5][17]\"\n",
       " \"18-Oct-2015\"     \"28,476\"     \"11,298\"  …     \"3,955\"  \"[18]\"\n",
       " \"11-Oct-2015\"     \"28,454\"     \"11,297\"        \"3,955\"  \"[note 6][19]\"\n",
       " \"27-Sep-2015\"     \"28,388\"     \"11,296\"        \"3,955\"  \"[20]\"\n",
       " \"20-Sep-2015\"     \"28,295\"     \"11,295\"        \"3,955\"  \"[21]\"\n",
       " \"13-Sep-2015\"     \"28,220\"     \"11,291\"        \"3,953\"  \"[22]\"\n",
       " ⋮                                        ⋱              \n",
       " \"14-Jul-2014\"  982          613          …  197         \"[69]\"\n",
       " \"2-Jul-2014\"   779          481             101         \"[70]\"\n",
       " \"17-Jun-2014\"  528          337              49         \"[71]\"\n",
       " \"27-May-2014\"  309          202               5         \"[72]\"\n",
       " \"12-May-2014\"  260          182                \"–\"      \"[73][74]\"\n",
       " \"1-May-2014\"   239          160          …     \"–\"      \"[75]\"\n",
       " \"14-Apr-2014\"  176          110                \"–\"      \"[76]\"\n",
       " \"31-Mar-2014\"  130           82                \"–\"      \"[77]\"\n",
       " \"22-Mar-2014\"   49           29                \"–\"      \"[78]\""
      ]
     },
     "metadata": {},
     "output_type": "display_data"
    }
   ],
   "source": [
    "using DelimitedFiles\n",
    "wikiEVDraw = DelimitedFiles.readdlm(\"./wikipediaEVDraw.csv\", ',')\n",
    "wikiEVDraw = wikiEVDraw[3:end, :]"
   ]
  },
  {
   "cell_type": "markdown",
   "id": "783ad88a",
   "metadata": {},
   "source": [
    "- The **Output** is a ```Matrix``` consisting the data."
   ]
  },
  {
   "cell_type": "markdown",
   "id": "1a0e9a44",
   "metadata": {},
   "source": [
    "### Creating .csv from data tables on the web\n",
    "- Using **LibreOffice Calc**.\n",
    "- How to use it:\n",
    "    1. Highlight all the contents in the table (Drag it all over down)\n",
    "    2. Copy it and Paste it inside the LibreOffice Calc\n",
    "    3. Save it.\n",
    "- Comma separate each cell in a row\n",
    "- Next-Line separate each row in column"
   ]
  },
  {
   "cell_type": "markdown",
   "id": "c4312ecd",
   "metadata": {},
   "source": [
    "### Data-Time Formats\n",
    "- The **data format** is not suitable for Julia. --> Conversing a date string to ```DateTime``` format\n",
    "- ```for``` Loops"
   ]
  },
  {
   "cell_type": "markdown",
   "id": "78e80a9e",
   "metadata": {},
   "source": [
    "### Converting Date Time\n",
    "- Data scientist should deal with Data on **Dates** and **Times**\n",
    "- The format should be readable for the specific programming language\n",
    "- For julia ----------> ```DateTime```\n",
    "- Using ```DateTime()``` and ```Dates.datetime2rata()```\n",
    "- ```DateTime()``` ----> using a format string convert string data into DateTime data."
   ]
  },
  {
   "cell_type": "code",
   "execution_count": 88,
   "id": "af40ebe3",
   "metadata": {},
   "outputs": [
    {
     "data": {
      "text/plain": [
       "2015-11-25T00:00:00"
      ]
     },
     "metadata": {},
     "output_type": "display_data"
    }
   ],
   "source": [
    "using Dates\n",
    "Dates.DateTime(wikiEVDraw[1, 1], \"d-u-y\")"
   ]
  },
  {
   "cell_type": "markdown",
   "id": "c76e7856",
   "metadata": {},
   "source": [
    "- The second parameter in ```DateTime()``` function ------------> showing the format of the string\n",
    "- When we use the 1 row, 1 column, we convert it to ```DateTime``` format."
   ]
  },
  {
   "cell_type": "markdown",
   "id": "5f0caa2c",
   "metadata": {},
   "source": [
    "### ```for``` Loops\n",
    "- We need ```DateTime``` conversion for every first element in each row.\n",
    "- In Python or Matlab, they use **Vectorisation for loops**\n",
    "- But in Julia, it is faster.\n",
    "- the syntax is:\n",
    "    ```julia\n",
    "    for <Howmany times>\n",
    "        <code block>\n",
    "    end\n",
    "    ```"
   ]
  },
  {
   "cell_type": "code",
   "execution_count": 89,
   "id": "64b9ea4a",
   "metadata": {},
   "outputs": [
    {
     "name": "stdout",
     "output_type": "stream",
     "text": [
      "num is now 3\n",
      "num is now 4\n",
      "num is now 5\n",
      "num is now 6\n",
      "num is now 7\n"
     ]
    }
   ],
   "source": [
    "for num = 3:7\n",
    "    println(\"num is now $num\")\n",
    "end"
   ]
  },
  {
   "cell_type": "code",
   "execution_count": 90,
   "id": "9b4559e7",
   "metadata": {},
   "outputs": [
    {
     "name": "stdout",
     "output_type": "stream",
     "text": [
      "The value of x is now 23\n",
      "The value of x is now my name is not a name\n",
      "The value of x is now i\n"
     ]
    }
   ],
   "source": [
    "testvalues = [23, \"my name is not a name\", 'i']\n",
    "for x in testvalues\n",
    "    println(\"The value of x is now $x\")\n",
    "end"
   ]
  },
  {
   "cell_type": "markdown",
   "id": "da26dcd1",
   "metadata": {},
   "source": [
    "- The first line:\n",
    "    - \"Varible = iterable\" ----------> like: ```num``` or ```x```\n",
    "- Now we use ```for``` statment"
   ]
  },
  {
   "cell_type": "code",
   "execution_count": 91,
   "id": "852c6ee1",
   "metadata": {},
   "outputs": [
    {
     "data": {
      "text/plain": [
       "54-element Vector{Any}:\n",
       " \"25-Nov-2015\"\n",
       " \"18-Nov-2015\"\n",
       " \"11-Nov-2015\"\n",
       " \"4-Nov-2015\"\n",
       " \"25-Oct-2015\"\n",
       " \"18-Oct-2015\"\n",
       " \"11-Oct-2015\"\n",
       " \"27-Sep-2015\"\n",
       " \"20-Sep-2015\"\n",
       " \"13-Sep-2015\"\n",
       " ⋮\n",
       " \"14-Jul-2014\"\n",
       " \"2-Jul-2014\"\n",
       " \"17-Jun-2014\"\n",
       " \"27-May-2014\"\n",
       " \"12-May-2014\"\n",
       " \"1-May-2014\"\n",
       " \"14-Apr-2014\"\n",
       " \"31-Mar-2014\"\n",
       " \"22-Mar-2014\""
      ]
     },
     "metadata": {},
     "output_type": "display_data"
    }
   ],
   "source": [
    "col1 = wikiEVDraw[:, 1]"
   ]
  },
  {
   "cell_type": "code",
   "execution_count": 92,
   "id": "5e19045e",
   "metadata": {},
   "outputs": [
    {
     "data": {
      "text/plain": [
       "54-element Vector{Any}:\n",
       " 2015-11-25T00:00:00\n",
       " 2015-11-18T00:00:00\n",
       " 2015-11-11T00:00:00\n",
       " 2015-11-04T00:00:00\n",
       " 2015-10-25T00:00:00\n",
       " 2015-10-18T00:00:00\n",
       " 2015-10-11T00:00:00\n",
       " 2015-09-27T00:00:00\n",
       " 2015-09-20T00:00:00\n",
       " 2015-09-13T00:00:00\n",
       " ⋮\n",
       " 2014-07-14T00:00:00\n",
       " 2014-07-02T00:00:00\n",
       " 2014-06-17T00:00:00\n",
       " 2014-05-27T00:00:00\n",
       " 2014-05-12T00:00:00\n",
       " 2014-05-01T00:00:00\n",
       " 2014-04-14T00:00:00\n",
       " 2014-03-31T00:00:00\n",
       " 2014-03-22T00:00:00"
      ]
     },
     "metadata": {},
     "output_type": "display_data"
    }
   ],
   "source": [
    "for i = 1:length(col1)\n",
    "    col1[i] = Dates.DateTime(col1[i], \"d-u-y\")\n",
    "end\n",
    "col1"
   ]
  },
  {
   "cell_type": "markdown",
   "id": "79c61e85",
   "metadata": {},
   "source": [
    "- Now use our Second ```for``` loop to create new data:"
   ]
  },
  {
   "cell_type": "markdown",
   "id": "94cc64ff",
   "metadata": {},
   "source": [
    "### Create data giving time in days since 22 March 2014\n",
    "- Create a variable: ```epidays```\n",
    "- The function: ```Dates.datetime2rata()```"
   ]
  },
  {
   "cell_type": "code",
   "execution_count": 93,
   "id": "1f76f260",
   "metadata": {},
   "outputs": [
    {
     "data": {
      "text/plain": [
       "735927"
      ]
     },
     "metadata": {},
     "output_type": "display_data"
    }
   ],
   "source": [
    "Dates.datetime2rata(col1[1])        # ------------> Rate-Die-Days format"
   ]
  },
  {
   "cell_type": "markdown",
   "id": "38983bf7",
   "metadata": {},
   "source": [
    "### Exporting the converted Data\n",
    "- Getting the Epidemic day (```epidays```)\n",
    "- Subtract the output to the starting day of epidemy: 22 March 2014"
   ]
  },
  {
   "cell_type": "code",
   "execution_count": 94,
   "id": "48b357e8",
   "metadata": {},
   "outputs": [],
   "source": [
    "dayssincemar22(x) = Dates.datetime2rata(x) - Dates.datetime2rata(col1[54])\n",
    "epidays = Array{Int64}(undef, 54)\n",
    "\n",
    "for i = 1:length(col1)\n",
    "    epidays[i] = dayssincemar22(col1[i])\n",
    "end"
   ]
  },
  {
   "cell_type": "code",
   "execution_count": 95,
   "id": "b6863626",
   "metadata": {},
   "outputs": [
    {
     "data": {
      "text/plain": [
       "54-element Vector{Int64}:\n",
       " 613\n",
       " 606\n",
       " 599\n",
       " 592\n",
       " 582\n",
       " 575\n",
       " 568\n",
       " 554\n",
       " 547\n",
       " 540\n",
       "   ⋮\n",
       " 114\n",
       " 102\n",
       "  87\n",
       "  66\n",
       "  51\n",
       "  40\n",
       "  23\n",
       "   9\n",
       "   0"
      ]
     },
     "metadata": {},
     "output_type": "display_data"
    }
   ],
   "source": [
    "epidays"
   ]
  },
  {
   "cell_type": "code",
   "execution_count": 98,
   "id": "39f975e8",
   "metadata": {},
   "outputs": [],
   "source": [
    "wikiEVDraw[:, 1] = epidays\n",
    "DelimitedFiles.writedlm(\"wikipediaEVDdatesconverted.csv\", wikiEVDraw, ',')"
   ]
  },
  {
   "cell_type": "code",
   "execution_count": null,
   "id": "d30c00d3",
   "metadata": {},
   "outputs": [],
   "source": []
  }
 ],
 "metadata": {
  "kernelspec": {
   "display_name": "Julia 1.10.3",
   "language": "julia",
   "name": "julia-1.10"
  },
  "language_info": {
   "file_extension": ".jl",
   "mimetype": "application/julia",
   "name": "julia",
   "version": "1.10.3"
  }
 },
 "nbformat": 4,
 "nbformat_minor": 5
}
