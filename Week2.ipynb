{
 "cells": [
  {
   "cell_type": "markdown",
   "id": "aa8b859d-6685-4037-847f-00b0294ada61",
   "metadata": {},
   "source": [
    "## The Ebola epidemic\n",
    "- Describe Ebola Virus Disease\n",
    "- Outline the time course of the West African EVD Epidemic\n",
    "- Distinguish the reality of EVD from two related things."
   ]
  },
  {
   "cell_type": "markdown",
   "id": "b87314d6",
   "metadata": {},
   "source": [
    "- We do not talk about this with Julia yet."
   ]
  },
  {
   "cell_type": "markdown",
   "id": "f2b42b59",
   "metadata": {},
   "source": [
    "### Why we are using this example\n",
    "- provide a rich set of tasks in Julia for us\n",
    "    - How to **read and write data**\n",
    "    - How to write **loops**\n",
    "    - How to make **Plots**\n",
    "- Ebola virus Disease caused outbreak in Africa in 2014\n",
    "    - It is a very important event\n",
    "    - A lot of data\n",
    "    - Can illustrate a lot of thing with these data"
   ]
  },
  {
   "cell_type": "markdown",
   "id": "43c3db6b",
   "metadata": {},
   "source": [
    "### Ebola\n",
    "- it spread by direct contact with body fluid ---> The fluid should get onto the skin and into the mucous membrances of the person\n",
    "- Airborn particles do not spread the disease.\n",
    "- 7/10 people who got sick, is likely to die.\n",
    "- 1/3 people who got treated died\n"
   ]
  },
  {
   "cell_type": "code",
   "execution_count": 1,
   "id": "5c54c203",
   "metadata": {},
   "outputs": [
    {
     "data": {
      "text/plain": [
       "0.7"
      ]
     },
     "metadata": {},
     "output_type": "display_data"
    }
   ],
   "source": [
    "7/10"
   ]
  },
  {
   "cell_type": "code",
   "execution_count": 2,
   "id": "f0fb0a79",
   "metadata": {},
   "outputs": [
    {
     "data": {
      "text/plain": [
       "0.3333333333333333"
      ]
     },
     "metadata": {},
     "output_type": "display_data"
    }
   ],
   "source": [
    "1/3"
   ]
  },
  {
   "cell_type": "markdown",
   "id": "38ce5508",
   "metadata": {},
   "source": [
    "### Models vs data vs reality\n",
    "- **Julia** can be used to illustrate many features of the language\n",
    "- We will learn:\n",
    "    1. handling **date-time data**\n",
    "    2. ```for``` loops\n",
    "    3. making **plots**\n",
    "    4. ```if``` statements\n",
    "    5. Practice with **Array slicing** and **user-defined functions**\n",
    "- In *Week 3*, Studying **modelling the epidemic**"
   ]
  },
  {
   "cell_type": "markdown",
   "id": "64d76259",
   "metadata": {},
   "source": []
  }
 ],
 "metadata": {
  "kernelspec": {
   "display_name": "Julia 1.10.3",
   "language": "julia",
   "name": "julia-1.10"
  },
  "language_info": {
   "file_extension": ".jl",
   "mimetype": "application/julia",
   "name": "julia",
   "version": "1.10.3"
  }
 },
 "nbformat": 4,
 "nbformat_minor": 5
}
