{
 "cells": [
  {
   "cell_type": "markdown",
   "id": "aa8b859d-6685-4037-847f-00b0294ada61",
   "metadata": {},
   "source": [
    "## The Ebola epidemic\n",
    "- Describe Ebola Virus Disease\n",
    "- Outline the time course of the West African EVD Epidemic\n",
    "- Distinguish the reality of EVD from two related things."
   ]
  },
  {
   "cell_type": "markdown",
   "id": "b87314d6",
   "metadata": {},
   "source": [
    "- We do not talk about this with Julia yet."
   ]
  },
  {
   "cell_type": "markdown",
   "id": "f2b42b59",
   "metadata": {},
   "source": [
    "### Why we are using this example\n",
    "- provide a rich set of tasks in Julia for us\n",
    "    - How to **read and write data**\n",
    "    - How to write **loops**\n",
    "    - How to make **Plots**\n",
    "- Ebola virus Disease caused outbreak in Africa in 2014\n",
    "    - It is a very important event\n",
    "    - A lot of data\n",
    "    - Can illustrate a lot of thing with these data"
   ]
  },
  {
   "cell_type": "markdown",
   "id": "43c3db6b",
   "metadata": {},
   "source": [
    "### Ebola\n",
    "- it spread by direct contact with body fluid ---> The fluid should get onto the skin and into the mucous membrances of the person\n",
    "- Airborn particles do not spread the disease.\n",
    "- 7/10 people who got sick, is likely to die.\n",
    "- 1/3 people who got treated died\n"
   ]
  },
  {
   "cell_type": "code",
   "execution_count": 1,
   "id": "5c54c203",
   "metadata": {},
   "outputs": [
    {
     "data": {
      "text/plain": [
       "0.7"
      ]
     },
     "metadata": {},
     "output_type": "display_data"
    }
   ],
   "source": [
    "7/10"
   ]
  },
  {
   "cell_type": "code",
   "execution_count": 2,
   "id": "f0fb0a79",
   "metadata": {},
   "outputs": [
    {
     "data": {
      "text/plain": [
       "0.3333333333333333"
      ]
     },
     "metadata": {},
     "output_type": "display_data"
    }
   ],
   "source": [
    "1/3"
   ]
  },
  {
   "cell_type": "markdown",
   "id": "38ce5508",
   "metadata": {},
   "source": [
    "### Models vs data vs reality\n",
    "- **Julia** can be used to illustrate many features of the language\n",
    "- We will learn:\n",
    "    1. handling **date-time data**\n",
    "    2. ```for``` loops\n",
    "    3. making **plots**\n",
    "    4. ```if``` statements\n",
    "    5. Practice with **Array slicing** and **user-defined functions**\n",
    "- In *Week 3*, Studying **modelling the epidemic**"
   ]
  },
  {
   "cell_type": "markdown",
   "id": "64d76259",
   "metadata": {},
   "source": [
    "- **Model**: is always simpler than the **Real thing**\n",
    "- **Model**: is also always simpler than the **data** it is fitted to\n",
    "- **Model**s are simpler to show and be understood and be more intricate\n",
    "- **Real World** > **DATA** > **Model** (From *Complexity standpoint*)"
   ]
  },
  {
   "cell_type": "markdown",
   "id": "08b15d62",
   "metadata": {},
   "source": [
    "### Loading publicly available data\n",
    "- Find data on the West African EVD\n",
    "- Loading the **DelimitedFiles** package\n",
    "- Use ```readdlm()``` to load this data from a ```.csv``` file"
   ]
  },
  {
   "cell_type": "markdown",
   "id": "8f8c6f74",
   "metadata": {},
   "source": [
    "- The data is here: https://en.wikipedia.org/wiki/West_African_Ebola_virus_epidemic_timeline_of_reported_cases_and_deaths\n",
    "- The ```.csv``` format:\n",
    "    - A **comma-separated file**"
   ]
  },
  {
   "cell_type": "markdown",
   "id": "2aa90b15",
   "metadata": {},
   "source": [
    "### Loading the DelimitedFiles packages\n",
    "- The extensions in Julia:\n",
    "    - Basics: always loaded\n",
    "    - Some other additionally loaded ----> like ```ElimitedFiles```\n",
    "- Why we do need ```ElimitedFiles```:\n",
    "    - Sarting-up efficiency\n",
    "    - Functionality effeciency\n"
   ]
  },
  {
   "cell_type": "markdown",
   "id": "f32d68a7",
   "metadata": {},
   "source": [
    "### Using readdlm to load a .csv file\n",
    "- Available in the ```ElimitedFiles```\n",
    "- ```readdlm()```:\n",
    "    - is Julia's way to read any file consists of lines **separated** into data items.\n",
    "    - the abbreviation of ***read-with-a-delimiter***\n",
    "- Using this function, ```readdlm()```, to load the file and use the Character: ```','``` to seperate the cells"
   ]
  },
  {
   "cell_type": "code",
   "execution_count": 40,
   "id": "ec26aa45",
   "metadata": {},
   "outputs": [
    {
     "data": {
      "text/plain": [
       "56×10 Matrix{Any}:\n",
       " \"\\ufeffDate\"      \"Total\"   …     \"\"       \"\"\n",
       " \"Cases\"           \"Deaths\"        \"\"       \"\"\n",
       " \"25-Nov-2015\"     \"28,637\"        \"3,955\"  \"[note 1][13]\"\n",
       " \"18-Nov-2015\"     \"28,634\"        \"3,955\"  \"[note 2][14]\"\n",
       " \"11-Nov-2015\"     \"28,635\"        \"3,955\"  \"[note 3][15]\"\n",
       " \"4-Nov-2015\"      \"28,607\"  …     \"3,955\"  \"[note 4][16]\"\n",
       " \"25-Oct-2015\"     \"28,539\"        \"3,955\"  \"[note 5][17]\"\n",
       " \"18-Oct-2015\"     \"28,476\"        \"3,955\"  \"[18]\"\n",
       " \"11-Oct-2015\"     \"28,454\"        \"3,955\"  \"[note 6][19]\"\n",
       " \"27-Sep-2015\"     \"28,388\"        \"3,955\"  \"[20]\"\n",
       " ⋮                           ⋱              \n",
       " \"14-Jul-2014\"  982             197         \"[69]\"\n",
       " \"2-Jul-2014\"   779             101         \"[70]\"\n",
       " \"17-Jun-2014\"  528              49         \"[71]\"\n",
       " \"27-May-2014\"  309          …    5         \"[72]\"\n",
       " \"12-May-2014\"  260                \"–\"      \"[73][74]\"\n",
       " \"1-May-2014\"   239                \"–\"      \"[75]\"\n",
       " \"14-Apr-2014\"  176                \"–\"      \"[76]\"\n",
       " \"31-Mar-2014\"  130                \"–\"      \"[77]\"\n",
       " \"22-Mar-2014\"   49          …     \"–\"      \"[78]\""
      ]
     },
     "metadata": {},
     "output_type": "display_data"
    }
   ],
   "source": [
    "using DelimitedFiles\n",
    "wikiEVDraw = DelimitedFiles.readdlm(\"./wikipediaEVDraw.csv\", ',')"
   ]
  },
  {
   "cell_type": "markdown",
   "id": "783ad88a",
   "metadata": {},
   "source": [
    "- The **Output** is a ```Matrix``` consisting the data."
   ]
  },
  {
   "cell_type": "markdown",
   "id": "1a0e9a44",
   "metadata": {},
   "source": [
    "### Creating .csv from data tables on the web\n",
    "- Using **LibreOffice Calc**.\n",
    "- How to use it:\n",
    "    1. Highlight all the contents in the table (Drag it all over down)\n",
    "    2. Copy it and Paste it inside the LibreOffice Calc\n",
    "    3. Save it.\n",
    "- Comma separate each cell in a row\n",
    "- Next-Line separate each row in column"
   ]
  },
  {
   "cell_type": "markdown",
   "id": "c4312ecd",
   "metadata": {},
   "source": [
    "### Data-Time Formats\n",
    "- The **data format** is not suitable for Julia. --> Conversing a date string to ```DateTime``` format\n",
    "- ```for``` Loops"
   ]
  },
  {
   "cell_type": "markdown",
   "id": "78e80a9e",
   "metadata": {},
   "source": [
    "### Converting Date Time\n",
    "- Data scientist should deal with Data on **Dates** and **Times**\n",
    "- The format should be readable for the specific programming language\n",
    "- For julia ----------> ```DateTime```\n",
    "- Using ```DateTime()``` and ```Dates.datetime2rata()```\n",
    "- ```DateTime()``` ----> using a format string convert string data into DateTime data."
   ]
  },
  {
   "cell_type": "code",
   "execution_count": 42,
   "id": "af40ebe3",
   "metadata": {},
   "outputs": [
    {
     "data": {
      "text/plain": [
       "2015-11-25T00:00:00"
      ]
     },
     "metadata": {},
     "output_type": "display_data"
    }
   ],
   "source": [
    "using Dates\n",
    "Dates.DateTime(wikiEVDraw[3, 1], \"d-u-y\")"
   ]
  },
  {
   "cell_type": "markdown",
   "id": "c76e7856",
   "metadata": {},
   "source": [
    "- The second parameter in ```DateTime()``` function ------------> showing the format of the string\n",
    "- "
   ]
  },
  {
   "cell_type": "code",
   "execution_count": null,
   "id": "5f0caa2c",
   "metadata": {},
   "outputs": [],
   "source": []
  }
 ],
 "metadata": {
  "kernelspec": {
   "display_name": "Julia 1.10.3",
   "language": "julia",
   "name": "julia-1.10"
  },
  "language_info": {
   "file_extension": ".jl",
   "mimetype": "application/julia",
   "name": "julia",
   "version": "1.10.3"
  }
 },
 "nbformat": 4,
 "nbformat_minor": 5
}
