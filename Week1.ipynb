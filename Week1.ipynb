{
 "cells": [
  {
   "cell_type": "code",
   "execution_count": 2,
   "id": "e74fdf4e-ed23-487c-ad82-77a734837adb",
   "metadata": {},
   "outputs": [
    {
     "name": "stdout",
     "output_type": "stream",
     "text": [
      "Hello World!\n",
      "I'm starting learning Coursera Julia\n"
     ]
    }
   ],
   "source": [
    "println(\"Hello World!\\nI'm starting learning Coursera Julia\")"
   ]
  },
  {
   "cell_type": "markdown",
   "id": "64f30222",
   "metadata": {},
   "source": [
    "### Arithmetic Operators\n",
    "- \\* + / - ^"
   ]
  },
  {
   "cell_type": "code",
   "execution_count": 4,
   "id": "3011013d-7e6b-4b1c-a290-3cf024a89056",
   "metadata": {},
   "outputs": [
    {
     "data": {
      "text/plain": [
       "2"
      ]
     },
     "metadata": {},
     "output_type": "display_data"
    }
   ],
   "source": [
    "1 + 1 # = 2"
   ]
  },
  {
   "cell_type": "markdown",
   "id": "9b17bbf6",
   "metadata": {},
   "source": [
    "### Julia\n",
    "\n",
    "- Like **interpreted language** but not exactly. (Oposite: **Compiled language**)\n",
    "    - Interpreted: Compile line by line\n",
    "    - Compiled: Compile the whole code and then run the state.\n",
    "- It is **Just-in-time compilation**. Compile tiny bits of code and then run them.\n",
    "- **Base package** -> almost all of it is written in *Julia*.\n",
    "- Adding packages"
   ]
  },
  {
   "cell_type": "markdown",
   "id": "11c98030",
   "metadata": {},
   "source": [
    "### IJulia\n",
    "\n",
    "- Adding it:\n",
    "    - ```Pkg.add(\"IJulia\")```\n",
    "    - ```using IJulia```\n",
    "- Using it:\n",
    "    - ```notebook()```"
   ]
  },
  {
   "cell_type": "markdown",
   "id": "2f89800d",
   "metadata": {},
   "source": [
    "### REPL\n",
    "- Read-Evaluate-Print Loop\n",
    "- "
   ]
  },
  {
   "cell_type": "code",
   "execution_count": 5,
   "id": "c7a904da",
   "metadata": {},
   "outputs": [
    {
     "name": "stdout",
     "output_type": "stream",
     "text": [
      "Hello, world!\n"
     ]
    }
   ],
   "source": [
    "println(\"Hello, world!\")"
   ]
  },
  {
   "cell_type": "markdown",
   "id": "eaacf191",
   "metadata": {},
   "source": [
    "### println\n",
    "- ```println()```\n",
    "- built-in function\n",
    "- ```()``` : parantheses\n",
    "- ```[]``` : brackets\n",
    "- ```{}``` : braces\n",
    "\n",
    "### \"Hello, world!\"\n",
    "- An argument\n",
    "- inside the quotation: String -> like a telephone\n",
    "    - Strings are **immutable** -> cannot be chang"
   ]
  },
  {
   "cell_type": "code",
   "execution_count": 6,
   "id": "c25388b0",
   "metadata": {},
   "outputs": [
    {
     "name": "stdout",
     "output_type": "stream",
     "text": [
      "1.2000000000000002\n"
     ]
    }
   ],
   "source": [
    "println(5 - 3.8)"
   ]
  },
  {
   "cell_type": "code",
   "execution_count": 7,
   "id": "c83cd91b",
   "metadata": {},
   "outputs": [
    {
     "name": "stdout",
     "output_type": "stream",
     "text": [
      "Hello My World!\n"
     ]
    }
   ],
   "source": [
    "println(\"Hello\" * \" My World!\")"
   ]
  },
  {
   "cell_type": "code",
   "execution_count": null,
   "id": "f4ae2a5a",
   "metadata": {},
   "outputs": [
    {
     "name": "stdout",
     "output_type": "stream",
     "text": [
      "Hello Gogolli! Gogolli! Gogolli!\n"
     ]
    }
   ],
   "source": [
    "println(\"Hello\" * \" Gogolli!\" ^ 3)"
   ]
  },
  {
   "cell_type": "markdown",
   "id": "c0c8e60a",
   "metadata": {},
   "source": [
    "### Arithmetical Expressions\n",
    "- using numbers and operators\n",
    "- State of order"
   ]
  },
  {
   "cell_type": "code",
   "execution_count": 28,
   "id": "c66f878e",
   "metadata": {},
   "outputs": [
    {
     "data": {
      "text/plain": [
       "-2"
      ]
     },
     "metadata": {},
     "output_type": "display_data"
    }
   ],
   "source": [
    "1 - 2 + 3 - 4"
   ]
  },
  {
   "cell_type": "code",
   "execution_count": 29,
   "id": "546f3e69",
   "metadata": {},
   "outputs": [
    {
     "data": {
      "text/plain": [
       "1.25"
      ]
     },
     "metadata": {},
     "output_type": "display_data"
    }
   ],
   "source": [
    "1 / 2 + 3 / 4"
   ]
  },
  {
   "cell_type": "code",
   "execution_count": 30,
   "id": "721c19e7",
   "metadata": {},
   "outputs": [
    {
     "data": {
      "text/plain": [
       "5//4"
      ]
     },
     "metadata": {},
     "output_type": "display_data"
    }
   ],
   "source": [
    "1 // 2 + 3 // 4"
   ]
  },
  {
   "cell_type": "code",
   "execution_count": 31,
   "id": "85139ee3",
   "metadata": {},
   "outputs": [
    {
     "data": {
      "text/plain": [
       "0.875"
      ]
     },
     "metadata": {},
     "output_type": "display_data"
    }
   ],
   "source": [
    "(1 / 2 + 3) / 4"
   ]
  },
  {
   "cell_type": "markdown",
   "id": "de907c2d",
   "metadata": {},
   "source": [
    "### Operator Precedence\n",
    "- Left to Right (For same orders)\n",
    "- () -> ^ -> / * -> + -\n",
    "- Don't make the code messy.\n",
    "- For exponentiation, Right to Left"
   ]
  },
  {
   "cell_type": "code",
   "execution_count": 1,
   "id": "c10f7fda",
   "metadata": {},
   "outputs": [
    {
     "data": {
      "text/plain": [
       "-1.8250000000000002"
      ]
     },
     "metadata": {},
     "output_type": "display_data"
    }
   ],
   "source": [
    "0.2 + 2 - 3 * 6.7 / 4 + (3 - 2) ^ 2"
   ]
  },
  {
   "cell_type": "code",
   "execution_count": 3,
   "id": "b5006813",
   "metadata": {},
   "outputs": [
    {
     "data": {
      "text/plain": [
       "43046721"
      ]
     },
     "metadata": {},
     "output_type": "display_data"
    }
   ],
   "source": [
    "3 ^ 4 ^ 2"
   ]
  },
  {
   "cell_type": "code",
   "execution_count": 1,
   "id": "dbe5cfba",
   "metadata": {},
   "outputs": [
    {
     "data": {
      "text/plain": [
       "6561"
      ]
     },
     "metadata": {},
     "output_type": "display_data"
    }
   ],
   "source": [
    "(3 ^ 4) ^ 2"
   ]
  },
  {
   "cell_type": "markdown",
   "id": "181c0cf2",
   "metadata": {},
   "source": [
    "### Logical Expressions\n",
    "* Logic: How to transform true sentences into other true sentences\n",
    "* Computer Logic: Only can evaluate logical expressions\n",
    "* Keywords: true, false (Two logical values)\n",
    "* Logical Operators:\n",
    "    1. ! : **NOT** -> Reversing\n",
    "    2. &&: **AND** -> Only all trues\n",
    "    3. ||: **OR**  -> Only have one true"
   ]
  },
  {
   "cell_type": "code",
   "execution_count": 1,
   "id": "ee440bd3",
   "metadata": {},
   "outputs": [
    {
     "data": {
      "text/plain": [
       "false"
      ]
     },
     "metadata": {},
     "output_type": "display_data"
    }
   ],
   "source": [
    "!true"
   ]
  },
  {
   "cell_type": "code",
   "execution_count": 2,
   "id": "1b041d0c",
   "metadata": {},
   "outputs": [
    {
     "data": {
      "text/plain": [
       "true"
      ]
     },
     "metadata": {},
     "output_type": "display_data"
    }
   ],
   "source": [
    "!false"
   ]
  },
  {
   "cell_type": "code",
   "execution_count": 3,
   "id": "ce255b25",
   "metadata": {},
   "outputs": [
    {
     "name": "stdout",
     "output_type": "stream",
     "text": [
      "true\n",
      "false\n",
      "false\n",
      "false\n"
     ]
    }
   ],
   "source": [
    "println(true && true)\n",
    "println(true && false)\n",
    "println(false && true)\n",
    "println(false && false)"
   ]
  },
  {
   "cell_type": "code",
   "execution_count": 4,
   "id": "0d9b6ba4",
   "metadata": {},
   "outputs": [
    {
     "name": "stdout",
     "output_type": "stream",
     "text": [
      "true\n",
      "true\n",
      "true\n",
      "false\n"
     ]
    }
   ],
   "source": [
    "println(true || true)\n",
    "println(true || false)\n",
    "println(false || true)\n",
    "println(false || false)"
   ]
  },
  {
   "cell_type": "markdown",
   "id": "0341a40d",
   "metadata": {},
   "source": [
    "### Comparison Operators\n",
    "* < \n",
    "* \\>\n",
    "* ==\n",
    "* !="
   ]
  },
  {
   "cell_type": "code",
   "execution_count": 5,
   "id": "aea08713",
   "metadata": {},
   "outputs": [
    {
     "data": {
      "text/plain": [
       "true"
      ]
     },
     "metadata": {},
     "output_type": "display_data"
    }
   ],
   "source": [
    "1 < 2"
   ]
  },
  {
   "cell_type": "code",
   "execution_count": 6,
   "id": "4ec934ea",
   "metadata": {},
   "outputs": [
    {
     "data": {
      "text/plain": [
       "false"
      ]
     },
     "metadata": {},
     "output_type": "display_data"
    }
   ],
   "source": [
    "3 == 3.5"
   ]
  },
  {
   "cell_type": "markdown",
   "id": "1e2aafa4",
   "metadata": {},
   "source": [
    "### Operator precedence for logical expressions\n",
    "* parantheses ()\n",
    "* Left to Right\n",
    "* Arithmetics are higher than Logicals\n",
    "    * *\\* / + - ^* > *! || &&*"
   ]
  },
  {
   "cell_type": "markdown",
   "id": "15a15217",
   "metadata": {},
   "source": [
    "### & and |\n",
    "* & : bitwise AND\n",
    "* | : bitwise OR\n",
    "* Workds on pairs of integers\n",
    "* | and || or & and && are **different**"
   ]
  },
  {
   "cell_type": "markdown",
   "id": "c30afabb",
   "metadata": {},
   "source": [
    "### Short-circuit evaluation of Logical Expressions\n",
    "* ```false && ...``` is always ```false```\n",
    "* ```true || ...``` is always ```true```\n",
    "* This make the code more efficient."
   ]
  },
  {
   "cell_type": "code",
   "execution_count": 7,
   "id": "b5d6bee9",
   "metadata": {},
   "outputs": [
    {
     "data": {
      "text/plain": [
       "84.0"
      ]
     },
     "metadata": {},
     "output_type": "display_data"
    }
   ],
   "source": [
    "5040 / 60"
   ]
  },
  {
   "cell_type": "code",
   "execution_count": 10,
   "id": "0aacd3e6",
   "metadata": {},
   "outputs": [
    {
     "data": {
      "text/plain": [
       "11"
      ]
     },
     "metadata": {},
     "output_type": "display_data"
    }
   ],
   "source": [
    "x = 2\n",
    "3x^2 - 2x + 3"
   ]
  },
  {
   "cell_type": "code",
   "execution_count": 15,
   "id": "c4afa7b3",
   "metadata": {},
   "outputs": [
    {
     "data": {
      "text/plain": [
       "false"
      ]
     },
     "metadata": {},
     "output_type": "display_data"
    }
   ],
   "source": [
    "3 & 5 > 0\n",
    "8 & 5 > 0"
   ]
  },
  {
   "cell_type": "code",
   "execution_count": null,
   "id": "93ca5e3b",
   "metadata": {},
   "outputs": [],
   "source": []
  }
 ],
 "metadata": {
  "kernelspec": {
   "display_name": "Julia 1.10.3",
   "language": "julia",
   "name": "julia-1.10"
  },
  "language_info": {
   "file_extension": ".jl",
   "mimetype": "application/julia",
   "name": "julia",
   "version": "1.10.3"
  }
 },
 "nbformat": 4,
 "nbformat_minor": 5
}
