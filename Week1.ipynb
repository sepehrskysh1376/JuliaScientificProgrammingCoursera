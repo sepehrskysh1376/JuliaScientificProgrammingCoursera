{
 "cells": [
  {
   "cell_type": "code",
   "execution_count": null,
   "id": "e74fdf4e-ed23-487c-ad82-77a734837adb",
   "metadata": {},
   "outputs": [],
   "source": [
    "println(\"Hello World!\\nI'm starting learning Coursera Julia\")"
   ]
  },
  {
   "cell_type": "markdown",
   "id": "64f30222",
   "metadata": {},
   "source": [
    "### Arithmetic Operators\n",
    "- \\* + / - ^"
   ]
  },
  {
   "cell_type": "code",
   "execution_count": null,
   "id": "3011013d-7e6b-4b1c-a290-3cf024a89056",
   "metadata": {},
   "outputs": [],
   "source": [
    "1 + 1 # = 2"
   ]
  },
  {
   "cell_type": "markdown",
   "id": "9b17bbf6",
   "metadata": {},
   "source": [
    "### Julia\n",
    "\n",
    "- Like **interpreted language** but not exactly. (Oposite: **Compiled language**)\n",
    "    - Interpreted: Compile line by line\n",
    "    - Compiled: Compile the whole code and then run the state.\n",
    "- It is **Just-in-time compilation**. Compile tiny bits of code and then run them.\n",
    "- **Base package** -> almost all of it is written in *Julia*.\n",
    "- Adding packages"
   ]
  },
  {
   "cell_type": "markdown",
   "id": "11c98030",
   "metadata": {},
   "source": [
    "### IJulia\n",
    "\n",
    "- Adding it:\n",
    "    - ```Pkg.add(\"IJulia\")```\n",
    "    - ```using IJulia```\n",
    "- Using it:\n",
    "    - ```notebook()```"
   ]
  },
  {
   "cell_type": "markdown",
   "id": "2f89800d",
   "metadata": {},
   "source": [
    "### REPL\n",
    "- Read-Evaluate-Print Loop\n",
    "- "
   ]
  },
  {
   "cell_type": "code",
   "execution_count": null,
   "id": "c7a904da",
   "metadata": {},
   "outputs": [],
   "source": [
    "println(\"Hello, world!\")"
   ]
  },
  {
   "cell_type": "markdown",
   "id": "eaacf191",
   "metadata": {},
   "source": [
    "### println\n",
    "- ```println()```\n",
    "- built-in function\n",
    "- ```()``` : parantheses\n",
    "- ```[]``` : brackets\n",
    "- ```{}``` : braces\n",
    "\n",
    "### \"Hello, world!\"\n",
    "- An argument\n",
    "- inside the quotation: String -> like a telephone\n",
    "    - Strings are **immutable** -> cannot be chang"
   ]
  },
  {
   "cell_type": "code",
   "execution_count": null,
   "id": "c25388b0",
   "metadata": {},
   "outputs": [],
   "source": [
    "println(5 - 3.8)"
   ]
  },
  {
   "cell_type": "code",
   "execution_count": null,
   "id": "c83cd91b",
   "metadata": {},
   "outputs": [],
   "source": [
    "println(\"Hello\" * \" My World!\")"
   ]
  },
  {
   "cell_type": "code",
   "execution_count": null,
   "id": "f4ae2a5a",
   "metadata": {},
   "outputs": [],
   "source": [
    "println(\"Hello\" * \" Gogolli!\" ^ 3)"
   ]
  },
  {
   "cell_type": "markdown",
   "id": "c0c8e60a",
   "metadata": {},
   "source": [
    "### Arithmetical Expressions\n",
    "- using numbers and operators\n",
    "- State of order"
   ]
  },
  {
   "cell_type": "code",
   "execution_count": null,
   "id": "c66f878e",
   "metadata": {},
   "outputs": [],
   "source": [
    "1 - 2 + 3 - 4"
   ]
  },
  {
   "cell_type": "code",
   "execution_count": null,
   "id": "546f3e69",
   "metadata": {},
   "outputs": [],
   "source": [
    "1 / 2 + 3 / 4"
   ]
  },
  {
   "cell_type": "code",
   "execution_count": null,
   "id": "721c19e7",
   "metadata": {},
   "outputs": [],
   "source": [
    "1 // 2 + 3 // 4"
   ]
  },
  {
   "cell_type": "code",
   "execution_count": null,
   "id": "85139ee3",
   "metadata": {},
   "outputs": [],
   "source": [
    "(1 / 2 + 3) / 4"
   ]
  },
  {
   "cell_type": "markdown",
   "id": "de907c2d",
   "metadata": {},
   "source": [
    "### Operator Precedence\n",
    "- Left to Right (For same orders)\n",
    "- () -> ^ -> / * -> + -\n",
    "- Don't make the code messy.\n",
    "- For exponentiation, Right to Left"
   ]
  },
  {
   "cell_type": "code",
   "execution_count": null,
   "id": "c10f7fda",
   "metadata": {},
   "outputs": [],
   "source": [
    "0.2 + 2 - 3 * 6.7 / 4 + (3 - 2) ^ 2"
   ]
  },
  {
   "cell_type": "code",
   "execution_count": null,
   "id": "b5006813",
   "metadata": {},
   "outputs": [],
   "source": [
    "3 ^ 4 ^ 2"
   ]
  },
  {
   "cell_type": "code",
   "execution_count": null,
   "id": "dbe5cfba",
   "metadata": {},
   "outputs": [],
   "source": [
    "(3 ^ 4) ^ 2"
   ]
  },
  {
   "cell_type": "markdown",
   "id": "181c0cf2",
   "metadata": {},
   "source": [
    "### Logical Expressions\n",
    "* Logic: How to transform true sentences into other true sentences\n",
    "* Computer Logic: Only can evaluate logical expressions\n",
    "* Keywords: true, false (Two logical values)\n",
    "* Logical Operators:\n",
    "    1. ! : **NOT** -> Reversing\n",
    "    2. &&: **AND** -> Only all trues\n",
    "    3. ||: **OR**  -> Only have one true"
   ]
  },
  {
   "cell_type": "code",
   "execution_count": null,
   "id": "ee440bd3",
   "metadata": {},
   "outputs": [],
   "source": [
    "!true"
   ]
  },
  {
   "cell_type": "code",
   "execution_count": null,
   "id": "1b041d0c",
   "metadata": {},
   "outputs": [],
   "source": [
    "!false"
   ]
  },
  {
   "cell_type": "code",
   "execution_count": null,
   "id": "ce255b25",
   "metadata": {},
   "outputs": [],
   "source": [
    "println(true && true)\n",
    "println(true && false)\n",
    "println(false && true)\n",
    "println(false && false)"
   ]
  },
  {
   "cell_type": "code",
   "execution_count": null,
   "id": "0d9b6ba4",
   "metadata": {},
   "outputs": [],
   "source": [
    "println(true || true)\n",
    "println(true || false)\n",
    "println(false || true)\n",
    "println(false || false)"
   ]
  },
  {
   "cell_type": "markdown",
   "id": "0341a40d",
   "metadata": {},
   "source": [
    "### Comparison Operators\n",
    "* < \n",
    "* \\>\n",
    "* ==\n",
    "* !="
   ]
  },
  {
   "cell_type": "code",
   "execution_count": null,
   "id": "aea08713",
   "metadata": {},
   "outputs": [],
   "source": [
    "1 < 2"
   ]
  },
  {
   "cell_type": "code",
   "execution_count": null,
   "id": "4ec934ea",
   "metadata": {},
   "outputs": [],
   "source": [
    "3 == 3.5"
   ]
  },
  {
   "cell_type": "markdown",
   "id": "1e2aafa4",
   "metadata": {},
   "source": [
    "### Operator precedence for logical expressions\n",
    "* parantheses ()\n",
    "* Left to Right\n",
    "* Arithmetics are higher than Logicals\n",
    "    * *\\* / + - ^* > *! || &&*"
   ]
  },
  {
   "cell_type": "markdown",
   "id": "15a15217",
   "metadata": {},
   "source": [
    "### & and |\n",
    "* & : bitwise AND\n",
    "* | : bitwise OR\n",
    "* Workds on pairs of integers\n",
    "* | and || or & and && are **different**"
   ]
  },
  {
   "cell_type": "markdown",
   "id": "c30afabb",
   "metadata": {},
   "source": [
    "### Short-circuit evaluation of Logical Expressions\n",
    "* ```false && ...``` is always ```false```\n",
    "* ```true || ...``` is always ```true```\n",
    "* This make the code more efficient."
   ]
  },
  {
   "cell_type": "code",
   "execution_count": null,
   "id": "b5d6bee9",
   "metadata": {},
   "outputs": [],
   "source": [
    "5040 / 60"
   ]
  },
  {
   "cell_type": "code",
   "execution_count": null,
   "id": "0aacd3e6",
   "metadata": {},
   "outputs": [],
   "source": [
    "x = 2\n",
    "3x^2 - 2x + 3"
   ]
  },
  {
   "cell_type": "code",
   "execution_count": null,
   "id": "c4afa7b3",
   "metadata": {},
   "outputs": [],
   "source": [
    "3 & 5 > 0\n",
    "8 & 5 > 0"
   ]
  },
  {
   "cell_type": "markdown",
   "id": "93ca5e3b",
   "metadata": {},
   "source": [
    "### Type System\n",
    "- Julia is a strong type language.\n",
    "- Most of the times, you can ignore the types in Julia.\n",
    "- But in some cases, you cannot. Especially when you run a program and Julia throw an Error at you.\n",
    "- What is a **Type**: Types are formats for *Storing information*\n",
    "- Information are stored and are moved in 0 and 1s. By knowing what **format to use**, you could tell what sequence of zeros and ones meant:\n",
    "    - 0001110100011111000001111100100011110000000101\n",
    "- We store two things:\n",
    "    1. **Information**\n",
    "    2. Its **Type**\n",
    "- **Where** do you store the types of a given information?\n",
    "    - Only **Values** have *Types*"
   ]
  },
  {
   "cell_type": "code",
   "execution_count": null,
   "id": "309141f0",
   "metadata": {},
   "outputs": [],
   "source": [
    "1 + 3 + 5"
   ]
  },
  {
   "cell_type": "code",
   "execution_count": null,
   "id": "154743af",
   "metadata": {},
   "outputs": [],
   "source": [
    "typeof(1)"
   ]
  },
  {
   "cell_type": "code",
   "execution_count": null,
   "id": "a6fdb56d",
   "metadata": {},
   "outputs": [],
   "source": [
    "typeof(1 + 3 + 5)"
   ]
  },
  {
   "cell_type": "code",
   "execution_count": null,
   "id": "feb5bfd7",
   "metadata": {},
   "outputs": [],
   "source": [
    "typeof(\"Hello, world!\")"
   ]
  },
  {
   "cell_type": "code",
   "execution_count": null,
   "id": "29927a96",
   "metadata": {},
   "outputs": [],
   "source": [
    "typeof(\"H\")"
   ]
  },
  {
   "cell_type": "code",
   "execution_count": null,
   "id": "f0367a62",
   "metadata": {},
   "outputs": [],
   "source": [
    "typeof('H')"
   ]
  },
  {
   "cell_type": "code",
   "execution_count": null,
   "id": "2e38cf4c",
   "metadata": {},
   "outputs": [],
   "source": [
    "typeof(1 + 3 + 5.)"
   ]
  },
  {
   "cell_type": "markdown",
   "id": "83e4bc68",
   "metadata": {},
   "source": [
    "- Julia is very senstive to types\n",
    "- Julia will automatically assign types to any values you create"
   ]
  },
  {
   "cell_type": "markdown",
   "id": "745d8bc6",
   "metadata": {},
   "source": [
    "### Char & String\n",
    "- **String**: a sequence of Characters.\n",
    "- ASCII list: specifies 128 characters: only alphabetic\n",
    "- Unicode: Other characters"
   ]
  },
  {
   "cell_type": "code",
   "execution_count": null,
   "id": "95c77868",
   "metadata": {},
   "outputs": [],
   "source": [
    "println(\"α β\")\n",
    "println(\"\\alpha \\beta\")\n",
    "println(\"⋄\")\n",
    "println(\"⤠\")"
   ]
  },
  {
   "cell_type": "markdown",
   "id": "3194f625",
   "metadata": {},
   "source": [
    "- They are available through ***LATEX***\n",
    "- All of them have ```Char``` type.\n",
    "- In Julia, types have name with first letter start with **Capital Letters**"
   ]
  },
  {
   "cell_type": "markdown",
   "id": "cc9e0e96",
   "metadata": {},
   "source": [
    "### Boolean\n",
    "- George Boole: the first oen who suggest the logical values: ture, false\n",
    "- In Julia, it occupies only 8 bits\n"
   ]
  },
  {
   "cell_type": "code",
   "execution_count": null,
   "id": "4c9916f0",
   "metadata": {},
   "outputs": [],
   "source": [
    "typeof(true)"
   ]
  },
  {
   "cell_type": "markdown",
   "id": "ffb19ffa",
   "metadata": {},
   "source": [
    "### Int64 & Float64\n",
    "- Most Scientific and Technical computation depends on them.\n",
    "- ```Float64```: is a floating point format for real numbers\n",
    "- ```Int64```: Integers\n"
   ]
  },
  {
   "cell_type": "code",
   "execution_count": null,
   "id": "964c4d20",
   "metadata": {},
   "outputs": [],
   "source": [
    "typeof(2)"
   ]
  },
  {
   "cell_type": "code",
   "execution_count": null,
   "id": "e7247aa0",
   "metadata": {},
   "outputs": [],
   "source": [
    "typeof(2.)"
   ]
  },
  {
   "cell_type": "code",
   "execution_count": null,
   "id": "7ee3af37",
   "metadata": {},
   "outputs": [],
   "source": [
    "2.0 == 2"
   ]
  },
  {
   "cell_type": "code",
   "execution_count": null,
   "id": "de4a535d",
   "metadata": {},
   "outputs": [],
   "source": [
    "2.0 === 2       # Strict Comparison"
   ]
  },
  {
   "cell_type": "markdown",
   "id": "3ea606b3",
   "metadata": {},
   "source": [
    "- Comparing between them can be done.\n",
    "- **Promotion rules** --> Conversion rules"
   ]
  },
  {
   "cell_type": "markdown",
   "id": "eefd6663",
   "metadata": {},
   "source": [
    "### Abstract Types\n",
    "- Till here, we talked about **Concrete types**\n",
    "- *Suptertype*: ```Any``` for every types or ```Real``` for ```Float64```\n",
    "- They are a way to grouping them together.\n",
    "- The actual type of a *value* should be **concerete type**\n",
    "- Why we use **Abstract types**:\n",
    "    1. Some operations change the type of a value: --> abstract types guide these processes\n",
    "    2. Functions operate on types --> when you specify to use an abstract type, you are giving it multiple concerte types\n",
    "- Julia has a **tree of types**"
   ]
  },
  {
   "cell_type": "markdown",
   "id": "7a97446e",
   "metadata": {},
   "source": [
    "### Variables\n",
    "- Each variable in julia has:\n",
    "    1. name\n",
    "    2. value\n",
    "    3. type\n",
    "- How to create ```Array``` type and how to access to the values in it.\n",
    "- How Variables gets their value and how variables is structured in Juila and why they can have **Abstract types**"
   ]
  },
  {
   "cell_type": "markdown",
   "id": "16dadebf",
   "metadata": {},
   "source": [
    "### Array types\n",
    "- Multidimenstional arrays:"
   ]
  },
  {
   "cell_type": "code",
   "execution_count": null,
   "id": "b9a21552",
   "metadata": {},
   "outputs": [],
   "source": [
    "println(Array{Int64}(undef, 3))\n",
    "typeof(Array{Int64}(undef, 3))"
   ]
  },
  {
   "cell_type": "markdown",
   "id": "c87d3918",
   "metadata": {},
   "source": [
    "- ```Array{Int64}(undef, 3)```: creates a 3 x 1 array of integers.\n",
    "- ```undef```: no value is supplied\n",
    "    - But because Julia hates empty arrays, it supplies some numbers to the Array (Waste numbers)\n",
    "- ```Array{Int64, 1}```: The ```1``` is the dimenstion, but ```3``` is the number of elements"
   ]
  },
  {
   "cell_type": "code",
   "execution_count": null,
   "id": "08799c7f",
   "metadata": {},
   "outputs": [],
   "source": [
    "Array{String}(undef, 3)"
   ]
  },
  {
   "cell_type": "code",
   "execution_count": null,
   "id": "fb58967b",
   "metadata": {},
   "outputs": [],
   "source": [
    "Array{Float64}(undef, 3)"
   ]
  },
  {
   "cell_type": "code",
   "execution_count": null,
   "id": "bb7bf156",
   "metadata": {},
   "outputs": [],
   "source": [
    "Array{Bool}(undef, 3)"
   ]
  },
  {
   "cell_type": "markdown",
   "id": "4a7243c2",
   "metadata": {},
   "source": [
    "### Assignment\n",
    "- How variables get their values\n",
    "- Do not use ```==``` --> just for **Comparison**\n",
    "- Use ```=``` for **Assignment**"
   ]
  },
  {
   "cell_type": "code",
   "execution_count": null,
   "id": "5c724676",
   "metadata": {},
   "outputs": [],
   "source": [
    "greeting = \"Hello, World!\""
   ]
  },
  {
   "cell_type": "code",
   "execution_count": null,
   "id": "2698a6c9",
   "metadata": {},
   "outputs": [],
   "source": [
    "println(greeting)"
   ]
  },
  {
   "cell_type": "code",
   "execution_count": null,
   "id": "ae504be4",
   "metadata": {},
   "outputs": [],
   "source": [
    "a = 5       # a takes the value of 5\n",
    "b = a       # b takes the value of a"
   ]
  },
  {
   "cell_type": "markdown",
   "id": "fbe0a130",
   "metadata": {},
   "source": [
    "### Valid variable name\n",
    "- Almost any String with letter, number or a few other characters"
   ]
  },
  {
   "cell_type": "code",
   "execution_count": null,
   "id": "da284aac",
   "metadata": {},
   "outputs": [],
   "source": [
    "سلام = 2\n",
    "خداحافظ = 3\n",
    "[سلام, خداحافظ]"
   ]
  },
  {
   "cell_type": "markdown",
   "id": "b7d2c61c",
   "metadata": {},
   "source": [
    "- Can also use **Underscore**\n",
    "- Do not use **Underscore** or **other weired characters**"
   ]
  },
  {
   "cell_type": "code",
   "execution_count": null,
   "id": "6385313c",
   "metadata": {},
   "outputs": [],
   "source": [
    "very_important!pay_attention = 2"
   ]
  },
  {
   "cell_type": "markdown",
   "id": "97f49ca1",
   "metadata": {},
   "source": [
    "### The three parts of a Julia Variable\n",
    "- Variable = name + value -----> The ```=``` binds the name to the value\n",
    "- Variable = name + value + type ----> The type is the type of its value\n",
    "- We can write a function without knowing the type of the variable or value that we are giving it."
   ]
  },
  {
   "cell_type": "markdown",
   "id": "57aef137",
   "metadata": {},
   "source": [
    "### Create a variable with Abstract type"
   ]
  },
  {
   "cell_type": "code",
   "execution_count": null,
   "id": "21dbab87",
   "metadata": {},
   "outputs": [],
   "source": [
    "abstractType = Array{Integer}(undef, 2, 3) # Integer is an Abstract type\n"
   ]
  },
  {
   "cell_type": "code",
   "execution_count": null,
   "id": "f57553b6",
   "metadata": {},
   "outputs": [],
   "source": [
    "typeof(abstractType)\n"
   ]
  },
  {
   "cell_type": "code",
   "execution_count": null,
   "id": "d1e84150",
   "metadata": {},
   "outputs": [],
   "source": [
    "abstractType[2, 3]"
   ]
  },
  {
   "cell_type": "code",
   "execution_count": null,
   "id": "b82c666f",
   "metadata": {},
   "outputs": [],
   "source": [
    "abstractType[2, 3] = 2"
   ]
  },
  {
   "cell_type": "code",
   "execution_count": null,
   "id": "e073e651",
   "metadata": {},
   "outputs": [],
   "source": [
    "abstractType[2, 3]"
   ]
  },
  {
   "cell_type": "code",
   "execution_count": null,
   "id": "a4af99fa",
   "metadata": {},
   "outputs": [],
   "source": [
    "abstractType[2, 1]"
   ]
  },
  {
   "cell_type": "code",
   "execution_count": null,
   "id": "359e8bef",
   "metadata": {},
   "outputs": [],
   "source": [
    "abstractType"
   ]
  },
  {
   "cell_type": "code",
   "execution_count": null,
   "id": "dc6eea7a",
   "metadata": {},
   "outputs": [],
   "source": [
    "abstractType[2, 1] = 5.3"
   ]
  },
  {
   "cell_type": "code",
   "execution_count": null,
   "id": "071def7b",
   "metadata": {},
   "outputs": [],
   "source": [
    "abstractType[2, 1] = \"String\""
   ]
  },
  {
   "cell_type": "code",
   "execution_count": null,
   "id": "223c60be",
   "metadata": {},
   "outputs": [],
   "source": [
    "abstractType2 = Array{Int64}(undef, 3, 4) # Int64 is a Concerte Type"
   ]
  },
  {
   "cell_type": "code",
   "execution_count": null,
   "id": "992099df",
   "metadata": {},
   "outputs": [],
   "source": [
    "abstractType2[2, 3]"
   ]
  },
  {
   "cell_type": "markdown",
   "id": "4dfc0fba",
   "metadata": {},
   "source": [
    "### Functions\n",
    "- How functions work\n",
    "- built-in and user-defined functions\n",
    "- Multiple dispatch"
   ]
  },
  {
   "cell_type": "markdown",
   "id": "43842e35",
   "metadata": {},
   "source": [
    "### Functions in Julia\n",
    "- ```println()```"
   ]
  },
  {
   "cell_type": "code",
   "execution_count": null,
   "id": "f9ded782",
   "metadata": {},
   "outputs": [],
   "source": [
    "greeting = \"Hello, World!\"\n",
    "println(greeting)"
   ]
  },
  {
   "cell_type": "markdown",
   "id": "bdf5f182",
   "metadata": {},
   "source": [
    "- Functions: Get some **Input** and **Something heppen**\n",
    "- Shoing a string on the screen, Generating a value"
   ]
  },
  {
   "cell_type": "code",
   "execution_count": null,
   "id": "d0cd44a8",
   "metadata": {},
   "outputs": [],
   "source": [
    "a, b, c = cos(0.3), log(2), abs(-1.22)"
   ]
  },
  {
   "cell_type": "markdown",
   "id": "729afab1",
   "metadata": {},
   "source": [
    "- ```typeof()```: A function provides information about the type of a value or variable"
   ]
  },
  {
   "cell_type": "markdown",
   "id": "1d058a0c",
   "metadata": {},
   "source": [
    "### Command line help\n",
    "- In Ijulia: ```?``` and then the topic ---> Give you the manual or information about the argument infornt of the ```?```"
   ]
  },
  {
   "cell_type": "code",
   "execution_count": null,
   "id": "dce3e403",
   "metadata": {},
   "outputs": [],
   "source": [
    "? println"
   ]
  },
  {
   "cell_type": "markdown",
   "id": "247b9a7f",
   "metadata": {},
   "source": [
    "### Function with multiple methods\n",
    "- Many **Code bodies** share one function name."
   ]
  },
  {
   "cell_type": "code",
   "execution_count": null,
   "id": "40ff416c",
   "metadata": {},
   "outputs": [],
   "source": [
    "mycos(x) = cos(x)"
   ]
  },
  {
   "cell_type": "code",
   "execution_count": null,
   "id": "43cda0e4",
   "metadata": {},
   "outputs": [],
   "source": [
    "mycos(0.4)"
   ]
  },
  {
   "cell_type": "markdown",
   "id": "e43b541a",
   "metadata": {},
   "source": [
    "- Now we have **one method**.\n",
    "- Now we can extend it for computing the cosine from the hypotenuse and adjacent side:"
   ]
  },
  {
   "cell_type": "code",
   "execution_count": null,
   "id": "4ea7109b",
   "metadata": {},
   "outputs": [],
   "source": [
    "mycos(adj, hyp) = adj/hyp"
   ]
  },
  {
   "cell_type": "code",
   "execution_count": null,
   "id": "64120495",
   "metadata": {},
   "outputs": [],
   "source": [
    "mycos(12, 13)"
   ]
  },
  {
   "cell_type": "markdown",
   "id": "edafae52",
   "metadata": {},
   "source": [
    "- Now we have two methods. When we have one input, the first method is used. however, when we have two inputs, the second method is used."
   ]
  },
  {
   "cell_type": "code",
   "execution_count": null,
   "id": "007634e0",
   "metadata": {},
   "outputs": [],
   "source": [
    "methods(mycos)"
   ]
  },
  {
   "cell_type": "markdown",
   "id": "b8b13a97",
   "metadata": {},
   "source": [
    "- There is no types that are specified for each methods. Just **the number of inputs**.\n",
    "- Now how to specified a method with and specified types?\n",
    "    - ```myfunc(x::<type>) = ...```"
   ]
  },
  {
   "cell_type": "code",
   "execution_count": null,
   "id": "58c11369",
   "metadata": {},
   "outputs": [],
   "source": [
    "mycos(thet::Float64) = cos(thet)"
   ]
  },
  {
   "cell_type": "markdown",
   "id": "96a65c5d",
   "metadata": {},
   "source": [
    "- Now we have **Three** methods. When the input is one and ```Float64```, Julia uses the third method."
   ]
  },
  {
   "cell_type": "code",
   "execution_count": null,
   "id": "1421a610",
   "metadata": {},
   "outputs": [],
   "source": [
    "methods(mycos)"
   ]
  },
  {
   "cell_type": "markdown",
   "id": "17a365bf",
   "metadata": {},
   "source": [
    "- Now just write two methods for ```mysin()```:"
   ]
  },
  {
   "cell_type": "code",
   "execution_count": 13,
   "id": "fc8d66cc",
   "metadata": {},
   "outputs": [
    {
     "data": {
      "text/plain": [
       "mysin (generic function with 2 methods)"
      ]
     },
     "metadata": {},
     "output_type": "display_data"
    }
   ],
   "source": [
    "mysin(thet::Float64) = sin(thet)\n",
    "mysin(hyp, adj2) = adj2/hyp"
   ]
  },
  {
   "cell_type": "code",
   "execution_count": 14,
   "id": "f1675366",
   "metadata": {},
   "outputs": [
    {
     "ename": "MethodError",
     "evalue": "MethodError: no method matching mysin(::Int64)\n\nClosest candidates are:\n  mysin(::Any, !Matched::Any)\n   @ Main c:\\Users\\sepehrskysh12\\Documents\\JuliaScripts\\JuliaCoursera\\Week1.ipynb:2\n  mysin(!Matched::Float64)\n   @ Main c:\\Users\\sepehrskysh12\\Documents\\JuliaScripts\\JuliaCoursera\\Week1.ipynb:1\n",
     "output_type": "error",
     "traceback": [
      "MethodError: no method matching mysin(::Int64)\n",
      "\n",
      "Closest candidates are:\n",
      "  mysin(::Any, !Matched::Any)\n",
      "   @ Main c:\\Users\\sepehrskysh12\\Documents\\JuliaScripts\\JuliaCoursera\\Week1.ipynb:2\n",
      "  mysin(!Matched::Float64)\n",
      "   @ Main c:\\Users\\sepehrskysh12\\Documents\\JuliaScripts\\JuliaCoursera\\Week1.ipynb:1\n",
      "\n",
      "\n",
      "Stacktrace:\n",
      " [1] top-level scope\n",
      "   @ c:\\Users\\sepehrskysh12\\Documents\\JuliaScripts\\JuliaCoursera\\Week1.ipynb:1"
     ]
    }
   ],
   "source": [
    "mysin(2)"
   ]
  },
  {
   "cell_type": "markdown",
   "id": "6b2c514d",
   "metadata": {},
   "source": [
    "- We can see that, we did not specified a ```mysin()``` function with ```Int64``` inputs. So we got **ERROR**.\n",
    " "
   ]
  },
  {
   "cell_type": "code",
   "execution_count": 17,
   "id": "c0007801",
   "metadata": {},
   "outputs": [
    {
     "ename": "Base.Meta.ParseError",
     "evalue": "ParseError:\n# Error @ c:\\Users\\sepehrskysh12\\Documents\\JuliaScripts\\JuliaCoursera\\Week1.ipynb:2:1\n60 \\ 5040\r\n? \\\n╙ ── not a unary operator",
     "output_type": "error",
     "traceback": [
      "ParseError:\n",
      "# Error @ c:\\Users\\sepehrskysh12\\Documents\\JuliaScripts\\JuliaCoursera\\Week1.ipynb:2:1\n",
      "60 \\ 5040\r\n",
      "? \\\n",
      "╙ ── not a unary operator\n",
      "\n",
      "Stacktrace:\n",
      " [1] top-level scope\n",
      "   @ c:\\Users\\sepehrskysh12\\Documents\\JuliaScripts\\JuliaCoursera\\Week1.ipynb:2"
     ]
    }
   ],
   "source": [
    "60 \\ 5040\n",
    "? \\"
   ]
  },
  {
   "cell_type": "code",
   "execution_count": 18,
   "id": "258dd288",
   "metadata": {},
   "outputs": [
    {
     "data": {
      "text/plain": [
       "add2 (generic function with 1 method)"
      ]
     },
     "metadata": {},
     "output_type": "display_data"
    }
   ],
   "source": [
    "add2(x, y) = return x+y"
   ]
  },
  {
   "cell_type": "markdown",
   "id": "92d21c8d",
   "metadata": {},
   "source": [
    "### Parameters\n",
    "- Here the 𝑦 and 𝑧 parameters are optional. That is if the function is called without parameters 𝑦 and 𝑧 then they gets the value 0.\n",
    "\n"
   ]
  },
  {
   "cell_type": "code",
   "execution_count": 19,
   "id": "3fcd61d2",
   "metadata": {},
   "outputs": [
    {
     "data": {
      "text/plain": [
       "coordinates (generic function with 3 methods)"
      ]
     },
     "metadata": {},
     "output_type": "display_data"
    }
   ],
   "source": [
    "function coordinates(x, y=0, z=0)\n",
    "  println(\"($x, $y, $z)\")\n",
    "end"
   ]
  },
  {
   "cell_type": "code",
   "execution_count": null,
   "id": "e6ca5111",
   "metadata": {},
   "outputs": [],
   "source": []
  }
 ],
 "metadata": {
  "kernelspec": {
   "display_name": "Julia 1.10.3",
   "language": "julia",
   "name": "julia-1.10"
  },
  "language_info": {
   "file_extension": ".jl",
   "mimetype": "application/julia",
   "name": "julia",
   "version": "1.10.3"
  }
 },
 "nbformat": 4,
 "nbformat_minor": 5
}
